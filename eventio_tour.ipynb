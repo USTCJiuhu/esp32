{
 "cells": [
  {
   "cell_type": "markdown",
   "metadata": {},
   "source": [
    "# EventIO Tutorial\n",
    "\n",
    "The need to perform several actions concurrently arises frequently in microcontroller applications. Sensor outputs need to be read, motors and LEDs controlled, and buttons or touchpads checked for user input.\n",
    "\n",
    "While it is possible in principle to perform all these actions sequentially in a loop, except in simple applications such solutions are difficult to get correct and even harder to maintain when new features are added.\n",
    "\n",
    "This tutorial introduces `eventio`, a *partial* implementation of `curio`, a [library for concurrent processing](https://curio.readthedocs.io). \n",
    "\n",
    "## Blinking one LED\n",
    "\n",
    "Let's start the tour with \"blink\", the proverbial \"Hello World\" application for microcontrollers. The code assumes that three LED's are connected to the board. Change the pin names to match your setup."
   ]
  },
  {
   "cell_type": "code",
   "execution_count": null,
   "metadata": {},
   "outputs": [],
   "source": [
    "%serialconnect \"/dev/cu.SLAB_USBtoUART\""
   ]
  },
  {
   "cell_type": "code",
   "execution_count": null,
   "metadata": {},
   "outputs": [],
   "source": [
    "from board import LED as LED_R\n",
    "from machine import Pin\n",
    "import time\n",
    "\n",
    "def blink(color, pin, period):\n",
    "    p = Pin(pin, mode=Pin.INOUT)\n",
    "    for i in range(10):\n",
    "        time.sleep(period/2)\n",
    "        p.value(not p.value())\n",
    "    \n",
    "blink(\"red\", LED_R, 0.5)"
   ]
  },
  {
   "cell_type": "markdown",
   "metadata": {},
   "source": [
    "The code blinks the LED the specified number of times and then stops. Nothing unusual.\n",
    "\n",
    "## Blinking multiple LEDs simulataneously\n",
    "\n",
    "Now suppose we wanted to blink several LEDs at individual rates, say 0.7ms and 0.4ms periods. Simply calling calling `blink` twice with different parameters won't produce the desired effect:"
   ]
  },
  {
   "cell_type": "code",
   "execution_count": null,
   "metadata": {},
   "outputs": [],
   "source": [
    "from board import A19 as LED_G\n",
    "from board import A20 as LED_B\n",
    "\n",
    "blink(\"red\",   LED_R, 0.7)\n",
    "blink(\"green\", LED_G, 0.4)\n",
    "blink(\"blue\",  LED_B, 0.5)"
   ]
  },
  {
   "cell_type": "markdown",
   "metadata": {},
   "source": [
    "This blinks the red light followed by the green light, one after the other. To blink them simultaneously but at different rates, modify `blink` as follows:"
   ]
  },
  {
   "cell_type": "code",
   "execution_count": null,
   "metadata": {},
   "outputs": [],
   "source": [
    "import eventio\n",
    "\n",
    "async def blink(color, pin, period):\n",
    "    p = Pin(pin, mode=Pin.INOUT)\n",
    "    for i in range(10):\n",
    "        await eventio.sleep(period/2)\n",
    "        p.value(not p.value())"
   ]
  },
  {
   "cell_type": "markdown",
   "metadata": {},
   "source": [
    "The differences include importing the `eventio` library and peceeding the function definition with `async`. This marks it as a `coroutine`, a piece of code that can run concurrently with other operations. \n",
    "\n",
    "The call to `time.sleep` is replaced by `await eventio.sleep`. The keyword `await` tells the Python interpreter to perform other activity, turning on and off other LEDs in this case, simultaneously.\n",
    "\n",
    "The following code blinkes the red, green, and blue LED concurrently:"
   ]
  },
  {
   "cell_type": "code",
   "execution_count": null,
   "metadata": {},
   "outputs": [],
   "source": [
    "async def main():\n",
    "    r = await eventio.spawn(blink, \"red  \", LED_R, 0.7)\n",
    "    g = await eventio.spawn(blink, \"green\", LED_G, 0.4)\n",
    "    b = await eventio.spawn(blink, \"blue \", LED_B, 0.5)\n",
    "    \n",
    "eventio.run(main)"
   ]
  },
  {
   "cell_type": "markdown",
   "metadata": {},
   "source": [
    "The calls to `eventio.spawn` create three separate coroutines which run concurrently. The call to `eventio.run` starts the process.\n",
    "\n",
    "In addition to the visual confirmation, we the example below adds printed output for further evidence of concurrent execution:"
   ]
  },
  {
   "cell_type": "code",
   "execution_count": null,
   "metadata": {},
   "outputs": [],
   "source": [
    "%rebootdevice\n",
    "%serialconnect \"/dev/cu.SLAB_USBtoUART\""
   ]
  },
  {
   "cell_type": "code",
   "execution_count": null,
   "metadata": {},
   "outputs": [],
   "source": [
    "from board import LED as LED_R\n",
    "from board import A19 as LED_G\n",
    "from board import A20 as LED_B\n",
    "from machine import Pin\n",
    "import eventio\n",
    "\n",
    "chrono = eventio.Chronometer()\n",
    "\n",
    "async def blink(color, pin, period):\n",
    "    global chrono\n",
    "    p = Pin(pin, mode=Pin.INOUT)\n",
    "    last_time = 0\n",
    "    for i in range(10):\n",
    "        await eventio.sleep(period/2)\n",
    "        p.value(not p.value())\n",
    "        elapsed = chrono.elapsed_time\n",
    "        delta = elapsed-last_time\n",
    "        extra_delay = delta - period/2\n",
    "        print(\"{} at {:6.0f} ms, {:4.0f} ms since last call, {:3.0f} ms extra\".format( \\\n",
    "            color, 1000*elapsed, 1000*delta, 1000*extra_delay))\n",
    "        last_time = chrono.elapsed_time\n",
    "    print(\"{} is done\".format(color))\n",
    "    \n",
    "async def main():\n",
    "    r = await eventio.spawn(blink, \"red  \", LED_R, 0.3)\n",
    "    g = await eventio.spawn(blink, \"green\", LED_G, 0.7)\n",
    "    b = await eventio.spawn(blink, \"blue \", LED_B, 0.5)\n",
    "    print(\"all LEDs blinking ...\")\n",
    "    await g.join()   # wait for coroutine g to terminate\n",
    "    print(\"main is done\")\n",
    "    \n",
    "eventio.run(main)"
   ]
  },
  {
   "cell_type": "markdown",
   "metadata": {},
   "source": [
    "The output confirms that the coroutines indeed run simultataneously. It shows the times at which the LEDs are turned on or off. Analyzing them you will notice that each LED is called at multiples of half it's period, plus a \"processing delay\". Try to program all of this in a single loop ... And this is just for blinking LEDs; many real applications have more complex requirements!\n",
    "\n",
    "Unlike calling `time.sleep`, which literally instructs the processor to do `nothing` except dissipate power and heat up the planet, a call to `eventio.sleep` checks for other work to be done, which in this example amounts to checking if one of the `blink` coroutines is ready to run. If no coroutine is ready to execute, `eventio.sleep` powers the processor down, which reduces the supply current by more than three orders-of-magnitude. \n",
    "\n",
    "**Note:** The \"power down\" feature requires an ARM CPU and is not available on the ESP32.\n",
    "\n",
    "## Input\n",
    "\n",
    "In the current implementation the LEDs blink for a fixed number of times. The code below stops when a button (connect a momentary button between `SWITCH` and ground) is pressed."
   ]
  },
  {
   "cell_type": "code",
   "execution_count": null,
   "metadata": {},
   "outputs": [],
   "source": [
    "%serialconnect \"/dev/cu.SLAB_USBtoUART\"\n",
    "\n",
    "from board import LED as LED_R\n",
    "from board import A19 as LED_G\n",
    "from board import A20 as LED_B\n",
    "from board import A5 as SWITCH\n",
    "from machine import Pin, WDT\n",
    "import eventio\n",
    "\n",
    "WDT(False)\n",
    "\n",
    "sw_event = eventio.PinEvent(SWITCH)\n",
    "\n",
    "async def blink(color, pin, period):\n",
    "    p = Pin(pin, mode=Pin.INOUT)\n",
    "    try:\n",
    "        while True:\n",
    "            await eventio.sleep(period/2)\n",
    "            p.value(not p.value())\n",
    "    except eventio.CancelledError:\n",
    "        print(\"{} cancelled\".format(color))\n",
    "        p.value(False)   # LED off\n",
    "        raise\n",
    "\n",
    "async def main():\n",
    "    r = await eventio.spawn(blink, \"red  \", LED_R, 0.3)\n",
    "    g = await eventio.spawn(blink, \"green\", LED_G, 0.7)\n",
    "    b = await eventio.spawn(blink, \"blue \", LED_B, 0.5)\n",
    "    print(\"All LEDs blinking ... press button to stop!\")\n",
    "    await sw_event.wait()\n",
    "    print(\"Button pressed! Cancelling blinkers ...\")\n",
    "    await r.cancel()\n",
    "    await g.cancel()\n",
    "    await b.cancel()\n",
    "    \n",
    "eventio.run(main)"
   ]
  },
  {
   "cell_type": "markdown",
   "metadata": {},
   "source": [
    "## Concurrency and Parallel Processing\n",
    "\n",
    "Although it appears as if the coroutines run simultaneously, only one is active at any given time. This is similar to other computers (laptops, desktops, etc) which give the appearance of executing several programs concurrently but are in fact switching rapidly between different tasks (multi-core processors do run more than one program at the same time). If the processor alternates rapidly e.g. between playing a movie and a showing edits in a spreadsheet, it appears as if both were running simultaneously.\n",
    "\n",
    "A big difference between the type of parallel processing used by laptop and desktop computers and `eventio` is the approach taken to switching between tasks. The former use a technique known as **preemptive multitasking**. In this case, the operating system (e.g. Linux or Windows) uses a timer to rapidly (e.g. every 50ms) switch between tasks: The currently running program is temporarily suspended, it's state saved, and a different task is permitted to execute. This process repeats, with each task getting a turn. If a task is blocked, e.g. waiting for input, it is skipped until it is ready again.\n",
    "\n",
    "With preemptive multitasking, tasks are not aware when execution is interrupted and have no control over when this happens. By contrast, `eventio` uses a different form of task switching called **cooperative multitasking**. In this scenario, tasks have full control over when they relinquish the CPU, namely when calling `await`. In other words, a coroutine can be assured that no other task will interrupt it until it signals its \"consent\" with `await`. The duration of the suspension depends on the statement called and the tasks that are waiting. E.g. `await eventio.sleep(1)` suspends the task for at least one second, but could also suspend it for longer if other tasks use the CPU.\n",
    "\n",
    "Preemptive and cooperative multitasking have both advantages and drawbacks, and which solution is better depends on the application. For small microcontrollers with limited memory and processing speed, cooperative multitasking is attractive since it uses less memory. More significantly, however, is the fact that task switching happens only at well defined instances marked with the keyword `await`.\n",
    "\n",
    "One of the most challenging aspects of parallel processing is ensuring correct use of shared resources. For example, imagine reading the value from a sensor over `I2C`. The driver first sends the address of the sensor to get its attention. It subsequently asks the sensor return its value.\n",
    "\n",
    "If this sequence is interrupted at an unfortunate moment by another task, the program may not function as intended. For example, if after addressing the sensor a different task gets control and addresses a sensor at another address, once control returns to the first task the request to read the sensor data goes to the wrong sensor producing an incorrect or no answer.\n",
    "\n",
    "This type of error is very difficult to diagnose, as the error may occur only infrequently and is difficult to reproduce. With cooperative multitasking a task can be assured that it will not be interrupted unless calling `await`. In the above example, it would call `await` only after the sensor read operation has completed. While this does not address all challenges that arise with multitasking, cooperative multitasking substantially reduces the opportunities for errors over the alternative, preemptive multitasking.\n",
    "\n",
    "The main drawback of cooperative multitasking is that a (rouge) task can prevent all others from running. E.g. if in the above example, the call to `eventio.sleep` is replaced by `time.sleep` (and the `await` keyword removed), the first coroutine will run exclusively until it finishes. In a desktop environment this obviously would not be practical - a simple programming mistake could freeze the entire computer. Microcontrollers, however, usually run a dedicated application that can be designed and tested for this not to happen.\n",
    "\n",
    "## Caveats\n",
    "\n",
    "In addition to the situation where a coroutine fails to call `await`, either due to a programming error or maliciously, thus preventing other tasks from running, there are a few other errors to avoid.\n",
    "\n",
    "The first, and most vexing (the kind where everything _looks right_ but the program still refuses to operate as expected) is forgetting the `await` keyword, as in the example below:"
   ]
  },
  {
   "cell_type": "code",
   "execution_count": null,
   "metadata": {},
   "outputs": [],
   "source": [
    "from board import LED as LED_R\n",
    "from machine import Pin\n",
    "import eventio\n",
    "\n",
    "async def blink(color, pin, period):\n",
    "    p = Pin(pin, mode=Pin.INOUT)\n",
    "    # ERROR: no await!\n",
    "    eventio.sleep(period/2)\n",
    "    p.value(not p.value())\n",
    "    \n",
    "eventio.run(blink, \"red\", LED_R, 1)\n",
    "print(\"Done!\")"
   ]
  },
  {
   "cell_type": "markdown",
   "metadata": {},
   "source": [
    "This program runs very quickly without error, but `eventio.sleep(period/2)` does not \"sleep\", hence resulting in the LED blinking very rapidly (faster than discernible).\n",
    "\n",
    "The result of `eventio.sleep(1)` is a generator (or coroutine in some versions of Python):"
   ]
  },
  {
   "cell_type": "code",
   "execution_count": null,
   "metadata": {},
   "outputs": [],
   "source": [
    "print(eventio.sleep(1))"
   ]
  },
  {
   "cell_type": "markdown",
   "metadata": {},
   "source": [
    "It is the `await` keyword that instructs the interpreter to actually perform the function. Without the call to `eventio.sleep` simply produces the generator, which is discarded and control is passed to the next statement. Unfortunately in Python the statements with and without `await` are syntactically correct, so watch out!\n",
    "\n",
    "The other common error is calling `time.sleep` instead of `eventio.sleep`. The former, with `await`, results in an error and is thus easy to spot. But without `await`, `time.sleep` is of course a valid call, except that it blocks the CPU, preventing other tasks from executing. \n",
    "\n",
    "If a concurrent program does not function as expected, these are some of the things to check!"
   ]
  },
  {
   "cell_type": "code",
   "execution_count": null,
   "metadata": {},
   "outputs": [],
   "source": []
  }
 ],
 "metadata": {
  "kernelspec": {
   "display_name": "MicroPython - USB",
   "language": "micropython",
   "name": "micropython"
  },
  "language_info": {
   "codemirror_mode": "python",
   "file_extension": ".py",
   "mimetype": "text/python",
   "name": "micropython"
  }
 },
 "nbformat": 4,
 "nbformat_minor": 2
}
