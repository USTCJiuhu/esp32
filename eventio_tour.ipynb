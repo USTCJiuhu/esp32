{
 "cells": [
  {
   "cell_type": "markdown",
   "metadata": {},
   "source": [
    "# EventIO Tutorial\n",
    "\n",
    "The need to perform several actions concurrently arises frequently in microcontroller applications. Sensor outputs need to be read, motors and LEDs controlled, and buttons or touchpads checked for user input.\n",
    "\n",
    "While it is possible in principle to perform all these actions sequentially in a loop, except in simple applications such solutions are difficult to get correct and even harder to maintain when additional capabilities are introduced.\n",
    "\n",
    "This tutorial introduces `eventio`, a *partial* implementation of `curio`, a [library for concurrent processing](https://curio.readthedocs.io). \n",
    "\n",
    "## Blinking one LED\n",
    "\n",
    "Let's start the tour with \"blink\", the proverbial \"Hello World\" application for microcontrollers (change the name of the LEDs to match your board)."
   ]
  },
  {
   "cell_type": "code",
   "execution_count": 45,
   "metadata": {},
   "outputs": [
    {
     "name": "stdout",
     "output_type": "stream",
     "text": [
      "serial exception on close write failed: [Errno 6] Device not configured\n",
      "Found serial ports: /dev/cu.SLAB_USBtoUART, /dev/cu.Bluetooth-Incoming-Port, /dev/cu.MALS, /dev/cu.SOC \n",
      "\u001b[34mConnecting to --port=/dev/cu.SLAB_USBtoUART --baud=115200 \u001b[0m\n",
      "\u001b[34mReady.\n",
      "\u001b[0m"
     ]
    }
   ],
   "source": [
    "%serialconnect \"/dev/cu.SLAB_USBtoUART\""
   ]
  },
  {
   "cell_type": "code",
   "execution_count": 46,
   "metadata": {},
   "outputs": [],
   "source": [
    "from board import LED as LED_R\n",
    "from board import A19 as LED_G\n",
    "from board import A20 as LED_B\n",
    "from machine import Pin\n",
    "import time\n",
    "\n",
    "def blink(color, pin, period):\n",
    "    p = Pin(pin, mode=Pin.INOUT)\n",
    "    for i in range(3):\n",
    "        time.sleep(period/2)\n",
    "        p.value(not p.value())\n",
    "    \n",
    "blink(\"red\", LED_R, 0.5)"
   ]
  },
  {
   "cell_type": "markdown",
   "metadata": {},
   "source": [
    "The code blinks the LED the specified number of times and then stops. Nothing unusual.\n",
    "\n",
    "## Blinking multiple LEDs simulataneously\n",
    "\n",
    "Now suppose we wanted to blink several LEDs at individual rates, say 0.7ms and 0.4ms periods. Simply calling calling `blink` twice with different parameters won't produce the desired effect:"
   ]
  },
  {
   "cell_type": "code",
   "execution_count": 47,
   "metadata": {},
   "outputs": [],
   "source": [
    "blink(\"red\",   LED_R, 0.7)\n",
    "blink(\"green\", LED_G, 0.4)"
   ]
  },
  {
   "cell_type": "markdown",
   "metadata": {},
   "source": [
    "This blinks the red light followed by the green light, one after the other. To blink them simultaneously but at different rates, modify `blink` as follows:"
   ]
  },
  {
   "cell_type": "code",
   "execution_count": 48,
   "metadata": {},
   "outputs": [],
   "source": [
    "import eventio\n",
    "\n",
    "async def blink(color, pin, period):\n",
    "    p = Pin(pin, mode=Pin.INOUT)\n",
    "    for i in range(10):\n",
    "        await eventio.sleep(period/2)\n",
    "        p.value(not p.value())"
   ]
  },
  {
   "cell_type": "markdown",
   "metadata": {},
   "source": [
    "The differences are importing `eventio` and peceeding the function definition with `async`. This marks it as a `coroutine`, a piece of code that can run concurrently with other operations. \n",
    "\n",
    "The call to `time.sleep` is replaced by `await eventio.sleep`. The keyword `await` tells the Python interpreter to perform other activity, turing on and off other LEDs in this case, simultaneously.\n",
    "\n",
    "The following code blinkes the red, green, and blue LED simultaneously:"
   ]
  },
  {
   "cell_type": "code",
   "execution_count": 49,
   "metadata": {},
   "outputs": [
    {
     "name": "stdout",
     "output_type": "stream",
     "text": [
      "."
     ]
    }
   ],
   "source": [
    "async def main():\n",
    "    r = await eventio.spawn(blink, \"red  \", LED_R, 0.7)\n",
    "    g = await eventio.spawn(blink, \"green\", LED_G, 0.4)\n",
    "    b = await eventio.spawn(blink, \"blue \", LED_B, 0.5)\n",
    "    \n",
    "eventio.run(main)"
   ]
  },
  {
   "cell_type": "markdown",
   "metadata": {},
   "source": [
    "The calls to `eventio.spawn` create three separate coroutines which all run in parallel. The call to `eventio.run` starts the process.\n",
    "\n",
    "In addition to the visual confirmation, we can add printed output to convince us that the coroutines indeed run concurrently:"
   ]
  },
  {
   "cell_type": "code",
   "execution_count": 50,
   "metadata": {},
   "outputs": [
    {
     "name": "stdout",
     "output_type": "stream",
     "text": [
      "normal repl mode not detected b'\\r\\nMicroPython ESP32_LoBo_v3.2.24 - 2018-09-06 on Huzzah32 with ESP32\\r\\nType \"help()\" for more information.\\r\\n>>> \\r\\n>>> \\r\\nESP32: soft reboot\\r\\nets Jun  8 2016 00:22:57\\r\\n\\r\\nrst:0xc (SW_CPU_RESET),boot:0x13 (SPI_FAST_FLASH_BOOT)\\r\\nconfigsip: 0, SPIWP:0xee\\r\\nclk_drv:0x00,q_drv:0x00,d_drv:0x00,cs0_drv:0x00,hd_drv:0x00,wp_drv:0x00\\r\\nmode:DIO, clock div:2\\r\\nload:0x3fff0018,len:4\\r\\nload:0x3fff001c,len:4916\\r\\nload:0x40078000,len:8652\\r\\nload:0x40080000,len:5748\\r\\nentry 0x400802dc\\r\\n'\n",
      "not command mode\n",
      "\n",
      "Internal FS (SPIFFS): Mounted on partition 'internalfs' [size: 2621440; Flash address: 0x180000]\n",
      "----------------\n",
      "Filesystem size: 2402304 B\n",
      "           Used: 512 B\n",
      "           Free: 2401792 B\n",
      "----------------\n",
      "MicroPython ESP32_LoBo_v3.2.24 - 2018-09-06 on Huzzah32 with ESP32\n",
      "Type \"help()\" for more information.\n",
      ">>>[reboot detected 0]repl is in normal command mode\n",
      "[\\r\\x03\\x03] b'\\r\\n>>> '\n",
      "[\\r\\x01] b'\\r\\n>>> \\r\\nraw REPL; CTRL-B to exit\\r\\n>' Found serial ports: /dev/cu.SLAB_USBtoUART, /dev/cu.Bluetooth-Incoming-Port, /dev/cu.MALS, /dev/cu.SOC \n",
      "\u001b[34mConnecting to --port=/dev/cu.SLAB_USBtoUART --baud=115200 \u001b[0m\n",
      "\u001b[34mReady.\n",
      "\u001b[0m"
     ]
    }
   ],
   "source": [
    "%rebootdevice\n",
    "%serialconnect \"/dev/cu.SLAB_USBtoUART\""
   ]
  },
  {
   "cell_type": "code",
   "execution_count": 51,
   "metadata": {},
   "outputs": [
    {
     "name": "stdout",
     "output_type": "stream",
     "text": [
      "all LEDs blinking ...\n",
      "red   at    160 ms,  160 ms since last call,     10 ms extra\n",
      "blue  at    272 ms,  272 ms since last call,     22 ms extra\n",
      "red   at    320 ms,  153 ms since last call,      3 ms extra\n",
      "green at    366 ms,  366 ms since last call,     16 ms extra\n",
      "red   at    480 ms,  154 ms since last call,      4 ms extra\n",
      "blue  at    531 ms,  253 ms since last call,      3 ms extra\n",
      "red   at    640 ms,  154 ms since last call,      4 ms extra\n",
      "green at    725 ms,  353 ms since last call,      3 ms extra\n",
      "blue  at    791 ms,  253 ms since last call,      3 ms extra\n",
      "red   at    802 ms,  156 ms since last call,      6 ms extra\n",
      "red   at    962 ms,  154 ms since last call,      4 ms extra\n",
      "blue  at   1052 ms,  254 ms since last call,      4 ms extra\n",
      "green at   1084 ms,  353 ms since last call,      3 ms extra\n",
      "red   at   1122 ms,  154 ms since last call,      4 ms extra\n",
      "red   at   1281 ms,  153 ms since last call,      3 ms extra\n",
      "blue  at   1312 ms,  254 ms since last call,      4 ms extra\n",
      "red   at   1441 ms,  153 ms since last call,      3 ms extra\n",
      "green at   1452 ms,  361 ms since last call,     11 ms extra\n",
      "blue  at   1571 ms,  253 ms since last call,      3 ms extra\n",
      "red   at   1601 ms,  153 ms since last call,      3 ms extra\n",
      "red   is done\n",
      "green at   1812 ms,  353 ms since last call,      3 ms extra\n",
      "blue  at   1830 ms,  252 ms since last call,      2 ms extra\n",
      "blue  at   2089 ms,  252 ms since last call,      2 ms extra\n",
      "green at   2171 ms,  353 ms since last call,      3 ms extra\n",
      "blue  at   2349 ms,  253 ms since last call,      3 ms extra\n",
      "green at   2532 ms,  354 ms since last call,      4 ms extra\n",
      "blue  at   2609 ms,  253 ms since last call,      3 ms extra\n",
      "blue  is done\n",
      "green at   2891 ms,  353 ms since last call,      3 ms extra\n",
      "green at   3252 ms,  355 ms since last call,      5 ms extra\n",
      "green at   3612 ms,  353 ms since last call,      3 ms extra\n",
      "green is done\n",
      "Program ran for 3.62600016593933 seconds with 72.3463312758694 % CPU utilization\n"
     ]
    }
   ],
   "source": [
    "from board import LED as LED_R\n",
    "from board import A19 as LED_G\n",
    "from board import A20 as LED_B\n",
    "from machine import Pin\n",
    "import eventio\n",
    "\n",
    "chrono = eventio.Chronometer()\n",
    "\n",
    "async def blink(color, pin, period):\n",
    "    global chrono\n",
    "    p = Pin(pin, mode=Pin.INOUT)\n",
    "    last_time = 0\n",
    "    for i in range(10):\n",
    "        await eventio.sleep(period/2)\n",
    "        p.value(not p.value())\n",
    "        elapsed = chrono.elapsed_time\n",
    "        delta = elapsed-last_time\n",
    "        extra_delay = delta - period/2\n",
    "        print(\"{} at {:6.0f} ms, {:4.0f} ms since last call, {:6.0f} ms extra\".format( \\\n",
    "            color, 1000*elapsed, 1000*delta, 1000*extra_delay))\n",
    "        last_time = chrono.elapsed_time\n",
    "    print(\"{} is done\".format(color))\n",
    "    \n",
    "async def main():\n",
    "    r = await eventio.spawn(blink, \"red  \", LED_R, 0.3)\n",
    "    g = await eventio.spawn(blink, \"green\", LED_G, 0.7)\n",
    "    b = await eventio.spawn(blink, \"blue \", LED_B, 0.5)\n",
    "    print(\"all LEDs blinking ...\")\n",
    "    await g.join()   # wait for coroutine g to terminate\n",
    "    # print some statistics\n",
    "    kernel = await eventio.get_kernel()\n",
    "    print(\"Program ran for {} seconds with {} % CPU utilization\".format(\n",
    "        kernel.uptime(), kernel.load_average()\n",
    "    ))\n",
    "    \n",
    "eventio.run(main)"
   ]
  },
  {
   "cell_type": "markdown",
   "metadata": {},
   "source": [
    "The printed output confirms that the coroutines indeed run simultataneously. Also shown is the time (in milli-seconds) at which the LED is turned on or off. Analyzing them you will notice that each LED is called at multiples of half it's period, plus a small \"processing delay\". Try to program all of this in a single loop ... And this is just for blinking LEDs; many real applications have more complex requirements!\n",
    "\n",
    "Unlike calling `time.sleep`, which litterally instructs the processor to do `nothing` except dissipate power and heat up the planet, a call to `eventio.sleep` checks for other work to be done, which in this example amounts to checking if one of the `blink` coroutines is ready to run. If no coroutine is ready to execute, `eventio.sleep` powers the processor down, which reduces the supply current by more than three orders-of-magnitude. \n",
    "\n",
    "Indeed, while the entire program ran for several seconds, the processor was in the high-power `awake` state less than 2 percent of the time, corresponding to a 50 times reduction of the energy used. Given the populatity of programs that blink LEDs, `eventio` has the potential of making a significant contribution towards saving the planet!\n",
    "\n",
    "## Input\n",
    "\n",
    "In the current implementation the LEDs blink for a fixed number of times. The code below stops when button `MODE` (adapt to your board) is pressed."
   ]
  },
  {
   "cell_type": "code",
   "execution_count": null,
   "metadata": {},
   "outputs": [
    {
     "name": "stdout",
     "output_type": "stream",
     "text": [
      "Found serial ports: /dev/cu.SLAB_USBtoUART, /dev/cu.Bluetooth-Incoming-Port, /dev/cu.MALS, /dev/cu.SOC \n",
      "\u001b[34mConnecting to --port=/dev/cu.SLAB_USBtoUART --baud=115200 \u001b[0m\n",
      "\u001b[34mReady.\n",
      "\u001b[0mAll LEDs blinking ... press button to stop!\n"
     ]
    }
   ],
   "source": [
    "%serialconnect \"/dev/cu.SLAB_USBtoUART\"\n",
    "\n",
    "from board import LED as LED_R\n",
    "from board import A19 as LED_G\n",
    "from board import A20 as LED_B\n",
    "from board import A5 as MODE\n",
    "from machine import Pin\n",
    "import eventio\n",
    "\n",
    "sw1_event = eventio.PinEvent(MODE)\n",
    "\n",
    "async def blink(color, pin, period):\n",
    "    p = Pin(pin, mode=Pin.INOUT)\n",
    "    try:\n",
    "        while True:\n",
    "            await eventio.sleep(period/2)\n",
    "            p.value(not p.value())\n",
    "    except eventio.CancelledError:\n",
    "        print(\"{} cancelled\".format(color))\n",
    "        p.value(False)   # LED off\n",
    "        raise\n",
    "\n",
    "async def main():\n",
    "    r = await eventio.spawn(blink, \"red  \", LED_R, 0.3)\n",
    "    g = await eventio.spawn(blink, \"green\", LED_G, 0.7)\n",
    "    b = await eventio.spawn(blink, \"blue \", LED_B, 0.5)\n",
    "    print(\"All LEDs blinking ... press button to stop!\")\n",
    "    await sw1_event.wait()\n",
    "    print(\"Button pressed! Cancelling blinkers ...\")\n",
    "    await r.cancel()\n",
    "    await g.cancel()\n",
    "    await b.cancel()\n",
    "    # print some statistics\n",
    "    kernel = await eventio.get_kernel()\n",
    "    print(\"Program ran for {:.1f} seconds with {:.1f} % CPU utilization\".format(\n",
    "        kernel.uptime(), kernel.load_average()\n",
    "    ))\n",
    "    \n",
    "eventio.run(main)"
   ]
  },
  {
   "cell_type": "markdown",
   "metadata": {},
   "source": [
    "## Concurrency and Parallel Processing\n",
    "\n",
    "Although it appears as if coroutines run in parallel, only one is active at any given time. This is similar to other computers (laptops, desktops, etc) which give the appearance of running several programs simultaneously but are in fact switching rapidly between different tasks (multi-core processors do run more than one program concurrently). If the processor alternates rapidly e.g. between displaying a movie and a spreadsheet, it appears as if both were running simultaneously, just as the different colored LEDs are blinking concurrently.\n",
    "\n",
    "A big difference between the parallel processing of laptop and desktop computers and `eventio` is the approach taken to switching between tasks. The former use a technique known as **\"preemptive multitasking\"**. In this case, the operating system (e.g. Linux or Windows) uses a timer to rapidly (e.g. every 50ms) switch between tasks: The currently running program is temporarily suspended, it's state saved, and a different task is permitted to execute. This process repeats, with each task getting a turn. If a task is current blocked, e.g. waiting for input, it is skipped until it is ready again.\n",
    "\n",
    "With preemptive multitasking, tasks are not aware when execution is interrupted and have no control over when this happens. By contrast, `eventio` uses a different form of task switching called **\"cooperative multitasking\"**. In this scenario, task have full control over when they relinquish the CPU, namely when calling `await`. In other words, a coroutine can be assured that no other task will interrupt it until it signals its \"consent\" with `await`. The duration of the suspension depends on the statement called and the tasks that are waiting. E.g. `await eventio.sleep(1)` suspends the task for at least one second, but could also suspend it for longer if other tasks need the CPU.\n",
    "\n",
    "Preemptive and cooperative multitasking have both advantages and drawbacks, and which solution is better depends on the application. For small microcontrollers with limited memory and processing speed, cooperative multitasking is attractive since it generally uses less memory. More significantly, however, is the fact that task switching happens only at well defined instances marked with the keyword `await`.\n",
    "\n",
    "One of the most challenging aspect of parallel processing is ensuring proper use of shared resources. For example, imagine you want to read the value from a sensor over `I2C`. The driver first sends the address of the sensor to get its attention. Then asks the sensor send its value over the bus.\n",
    "\n",
    "If this sequence is interrupted at an unfortunate moment, by another task, the program may not function as intended. For example, if after addressing the sensor a different task gets control and adresses a different sensor, once control returns to the first task the request to read the sensor data goes to the wrong sensor producing the wrong or no answer.\n",
    "\n",
    "Such errors are difficult to detect, as they may occur only infrequently and are difficult to reproduce. With cooperative multitasking a task can be assured that it will not be interrupted unless calling `await`. While this simple solution does not address all situations, it substantially reduces the opportunities for errors in concurrent programs.\n",
    "\n",
    "The main drawback of cooperative multitasking is that a (rouge) task can prevent all others from running. E.g. if in the above example, the call to `eventio.sleep` is replaced by `time.sleep` (and the `await` keyword removed), the first coroutine will run exclusively until it finishes. In a desktop environment this obviously would not be practical - a simple programming mistake could freeze the entire computer. On a microcontroller, however, the entire application is usually under control of a single user who can make sure that this does not happen.\n",
    "\n",
    "## Caveats\n",
    "\n",
    "In addition to the situation where a coroutine fails to call `await`, either due to a programming error or maliciously, thus preventing other tasks to run, there are a few other errors to avoid.\n",
    "\n",
    "The first, and most vexing (the kind where everything looks right but still refuses to \"work\") is forgetting the `await` keyword, as in the example below:"
   ]
  },
  {
   "cell_type": "code",
   "execution_count": 43,
   "metadata": {},
   "outputs": [
    {
     "name": "stdout",
     "output_type": "stream",
     "text": [
      "Done!\n"
     ]
    }
   ],
   "source": [
    "from board import LED as LED_R\n",
    "from machine import Pin\n",
    "import eventio\n",
    "\n",
    "async def blink(color, pin, period):\n",
    "    p = Pin(pin, mode=Pin.INOUT)\n",
    "    # ERROR: no await!\n",
    "    eventio.sleep(period/2)\n",
    "    p.value(not p.value())\n",
    "    \n",
    "eventio.run(blink, \"red\", LED_R, 1)\n",
    "print(\"Done!\")"
   ]
  },
  {
   "cell_type": "markdown",
   "metadata": {},
   "source": [
    "This program runs very quickly without error, but `eventio.sleep(period/2)` does not \"sleep\", hence resulting in the LED blinking very rapidly (faster than discernible).\n",
    "\n",
    "The result of `eventio.sleep(1)` is a generator (or coroutine in some versions of Python):"
   ]
  },
  {
   "cell_type": "code",
   "execution_count": 44,
   "metadata": {},
   "outputs": [
    {
     "name": "stdout",
     "output_type": "stream",
     "text": [
      "<generator object 'sleep' at 3ffd0f90>\n"
     ]
    }
   ],
   "source": [
    "print(eventio.sleep(1))"
   ]
  },
  {
   "cell_type": "markdown",
   "metadata": {},
   "source": [
    "It is the `await` keyword that instructs the interpreter to actually perform the function. Unfortunately in Python the statements with and without `await` are syntactically correct, so watch out!\n",
    "\n",
    "The other common error is calling `time.sleep` instead of `eventio.sleep`. The former, with `await`, gives an error and is thus easy to spot. But without `await`, `time.sleep` is of course a valid call, except that it blocks the CPU, preventing other tasks from running. \n",
    "\n",
    "If a concurrent program does not function as expected, these are some of the things to check!"
   ]
  }
 ],
 "metadata": {
  "kernelspec": {
   "display_name": "MicroPython - USB",
   "language": "micropython",
   "name": "micropython"
  },
  "language_info": {
   "codemirror_mode": "python",
   "file_extension": ".py",
   "mimetype": "text/python",
   "name": "micropython"
  }
 },
 "nbformat": 4,
 "nbformat_minor": 2
}
