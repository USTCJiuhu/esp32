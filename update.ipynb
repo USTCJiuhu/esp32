{
 "cells": [
  {
   "cell_type": "markdown",
   "metadata": {},
   "source": [
    "# Update ESP32\n",
    "\n",
    "This guide shows how to update MicroPython and libraries to a newer version.\n",
    "\n",
    "## Update to the Latest Version on Github\n",
    "\n",
    "TODO\n",
    "\n",
    "## Flash MicroPython\n",
    "\n",
    "After downloading a new version of the MicroPython interpreter, you flash it by executing the cell below:"
   ]
  },
  {
   "cell_type": "code",
   "execution_count": 1,
   "metadata": {},
   "outputs": [
    {
     "name": "stdout",
     "output_type": "stream",
     "text": [
      "esptool.py v2.5.1\n",
      "Serial port /dev/cu.SLAB_USBtoUART\n",
      "Connecting........_\n",
      "Chip is ESP32D0WDQ6 (revision 1)\n",
      "Features: WiFi, BT, Dual Core\n",
      "MAC: 30:ae:a4:1a:27:28\n",
      "Uploading stub...\n",
      "Running stub...\n",
      "Stub running...\n",
      "Changing baud rate to 921600\n",
      "Changed.\n",
      "Configuring flash size...\n",
      "Auto-detected Flash size: 4MB\n",
      "Compressed 1081952 bytes to 683886...\n",
      "Wrote 1081952 bytes (683886 compressed) at 0x00001000 in 10.9 seconds (effective 794.8 kbit/s)...\n",
      "Hash of data verified.\n",
      "\n",
      "Leaving...\n",
      "Hard resetting via RTS pin...\n"
     ]
    }
   ],
   "source": [
    "%shell esptool.py -p /dev/cu.SLAB_USBtoUART --chip esp32 -b 921600 write_flash -z 0x1000 bin/esp32-latest.bin"
   ]
  },
  {
   "cell_type": "markdown",
   "metadata": {},
   "source": [
    "Upload libraries and test the installation:"
   ]
  },
  {
   "cell_type": "code",
   "execution_count": 1,
   "metadata": {},
   "outputs": [
    {
     "name": "stdout",
     "output_type": "stream",
     "text": [
      "\u001b[34mConnected on /dev/cu.SLAB_USBtoUART\n",
      "\u001b[0mUp to date: /remote/code/lib/plotclient.py\n",
      "Up to date: /remote/code/lib/logging.py\n",
      "Up to date: /remote/code/lib/board.py\n",
      "Up to date: /remote/code/lib/functools.py\n",
      "Up to date: /remote/code/lib/writer.py\n",
      "Up to date: /remote/code/lib/mpu9250.py\n",
      "Up to date: /remote/code/lib/upip.py\n",
      "Up to date: /remote/code/lib/imu.py\n",
      "Up to date: /remote/code/lib/urequests.py\n",
      "Up to date: /remote/code/lib/freesans20.py\n",
      "Up to date: /remote/code/lib/vector3d.py\n",
      "Up to date: /remote/code/lib/ina219.py\n",
      "Up to date: /remote/code/lib/oledfeather.py\n",
      "Up to date: /remote/code/lib/ads1x15.py\n",
      "Up to date: /remote/code/lib/mqttclient.py\n",
      "platform: esp32\n",
      "implementation: (name='micropython', version=(1, 9, 4))\n"
     ]
    }
   ],
   "source": [
    "%connect \"/dev/cu.SLAB_USBtoUART\"\n",
    "\n",
    "# Copy files from host to ESP32\n",
    "Util.sync('/remote/code/lib', '/', include='.*\\.py')\n",
    "\n",
    "assert 2**10 == 1024, \"ESP32 flunks arithmetic\"\n",
    "\n",
    "import sys\n",
    "print(\"platform:\", sys.platform)\n",
    "print(\"implementation:\", sys.implementation)"
   ]
  },
  {
   "cell_type": "markdown",
   "metadata": {},
   "source": [
    "## Repairing a Corrupt Filesystem\n",
    "\n",
    "If the flash on the ESP32 is corrupt (files cannot be uploaded or viewed) or you flashed a \"bad\" `main.py` that runs in an endless loop, use run the next cell to erase the entire flash.\n",
    "\n",
    "**Note:** you will loose the entire contents of the flash. Keep regular backups!"
   ]
  },
  {
   "cell_type": "code",
   "execution_count": null,
   "metadata": {},
   "outputs": [],
   "source": [
    "%shell esptool.py -p /dev/cu.SLAB_USBtoUART --chip esp32 -b 921600 erase_flash"
   ]
  }
 ],
 "metadata": {
  "kernelspec": {
   "display_name": "MicroPython Remote",
   "language": "micropython",
   "name": "micropython"
  },
  "language_info": {
   "codemirror_mode": "python",
   "file_extension": ".py",
   "mimetype": "text/python",
   "name": "micropython"
  }
 },
 "nbformat": 4,
 "nbformat_minor": 2
}
