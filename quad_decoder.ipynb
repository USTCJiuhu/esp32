{
 "cells": [
  {
   "cell_type": "markdown",
   "metadata": {},
   "source": [
    "# Quadrature Decoder\n",
    "\n",
    "Quadrature signals are used to measure wheel rotation speed. The ESP32 has eight 16-Bit pulse count units, either for quadrature or single input encoders."
   ]
  },
  {
   "cell_type": "code",
   "execution_count": 9,
   "metadata": {},
   "outputs": [
    {
     "name": "stdout",
     "output_type": "stream",
     "text": [
      "Found serial ports: /dev/cu.SLAB_USBtoUART, /dev/cu.Bluetooth-Incoming-Port, /dev/cu.MALS, /dev/cu.SOC \n",
      "\u001b[34mConnecting to --port=/dev/cu.SLAB_USBtoUART --baud=115200 \u001b[0m\n",
      "\u001b[34mReady.\n",
      "\u001b[0m"
     ]
    }
   ],
   "source": [
    "%serialconnect \"/dev/cu.SLAB_USBtoUART\""
   ]
  },
  {
   "cell_type": "markdown",
   "metadata": {},
   "source": [
    "## Example"
   ]
  },
  {
   "cell_type": "code",
   "execution_count": 10,
   "metadata": {},
   "outputs": [
    {
     "name": "stdout",
     "output_type": "stream",
     "text": [
      "Decoder: DEC(0, Pin(16), Pin(21))\n",
      "      count =   0\n",
      "  X   count =   1\n",
      "X X   count =   2\n",
      "X     count =   3\n",
      "      count =   4\n",
      "  X   count =   5\n",
      "X X   count =   6\n",
      "X     count =   7\n",
      "      count =   8\n",
      "  X   count =   9\n",
      "X X   count =  10\n",
      "X     count =  11\n",
      "      count =  12\n",
      "X     count =  11\n",
      "X X   count =  10\n",
      "  X   count =   9\n",
      "      count =   8\n",
      "X     count =   7\n",
      "X X   count =   6\n",
      "  X   count =   5\n",
      "      count =   4\n",
      "X     count =   3\n",
      "X X   count =   2\n",
      "  X   count =   1\n",
      "      count =   0\n",
      "X     count =  -1\n",
      "X X   count =  -2\n",
      "  X   count =  -3\n",
      "      count =  -4\n",
      "X     count =  -5\n",
      "X X   count =  -6\n",
      "  X   count =  -7\n",
      "      count =  -8\n",
      "X     count =  -9\n",
      "X X   count = -10\n",
      "  X   count = -11\n",
      "      count = -12\n",
      "  X   count = -11\n",
      "X X   count = -10\n",
      "X     count =  -9\n",
      "      count =  -8\n",
      "  X   count =  -7\n",
      "X X   count =  -6\n",
      "X     count =  -5\n",
      "      count =  -4\n",
      "  X   count =  -3\n",
      "X X   count =  -2\n",
      "X     count =  -1\n",
      "      count =   0\n"
     ]
    }
   ],
   "source": [
    "from machine import Pin, DEC\n",
    "from board import A18, A19, A20, A21\n",
    "\n",
    "\"\"\"\n",
    "Quadrature Decoder Demo\n",
    "\n",
    "Pins A18, A20 generate quadrature input, decoded by A19, A20\n",
    "\n",
    "Connect A18 --> A19\n",
    "    and A20 --> A21\n",
    "\n",
    "Ref: https://github.com/dhylands/upy-examples/blob/master/encoder3.py\n",
    "\"\"\"\n",
    "\n",
    "# Decoder\n",
    "quadrature = True   # configure for quadrature or single input counting\n",
    "\n",
    "if quadrature:\n",
    "    dec = DEC(0, Pin(A19), Pin(A21))\n",
    "else:\n",
    "    dec = DEC(0, Pin(A19))\n",
    "\n",
    "print(\"Decoder:\", dec)\n",
    "\n",
    "# Quadrature signal generator\n",
    "\n",
    "q_idx = 0\n",
    "q_seq = [0, 1, 3, 2]\n",
    "\n",
    "qa_out = Pin(A18, mode=Pin.OUT)\n",
    "qb_out = Pin(A20, mode=Pin.OUT)\n",
    "\n",
    "def set_out():\n",
    "    va = (q_seq[q_idx] & 0x02) != 0\n",
    "    vb = (q_seq[q_idx] & 0x01) != 0\n",
    "    qa_out.value(va)\n",
    "    qb_out.value(vb)\n",
    "    print(\"{} {}   count ={:4d}\".format(\n",
    "        'X' if va else ' ',\n",
    "        'X' if vb else ' ',\n",
    "        dec.count()))\n",
    "\n",
    "def incr():\n",
    "    global q_idx\n",
    "    q_idx = (q_idx+1) % 4\n",
    "    set_out()\n",
    "\n",
    "def decr():\n",
    "    global q_idx\n",
    "    q_idx = (q_idx-1) % 4\n",
    "    set_out()\n",
    "\n",
    "# Demo: count up and down (quadrature==True) or just up (quadrature==False)\n",
    "\n",
    "dec.clear()\n",
    "print(\"      count ={:4d}\".format(dec.count()))\n",
    "\n",
    "for i in range(12):\n",
    "    incr()\n",
    "for i in range(24):\n",
    "    decr()\n",
    "for i in range(12):\n",
    "    incr()"
   ]
  },
  {
   "cell_type": "code",
   "execution_count": null,
   "metadata": {},
   "outputs": [],
   "source": []
  }
 ],
 "metadata": {
  "kernelspec": {
   "display_name": "MicroPython - USB",
   "language": "micropython",
   "name": "micropython"
  },
  "language_info": {
   "codemirror_mode": "python",
   "file_extension": ".py",
   "mimetype": "text/python",
   "name": "micropython"
  }
 },
 "nbformat": 4,
 "nbformat_minor": 2
}
