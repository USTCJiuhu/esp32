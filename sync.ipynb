{
 "cells": [
  {
   "cell_type": "markdown",
   "metadata": {},
   "source": [
    "# ESP32 File System\n",
    "\n",
    "The Huzzah32 has a small flash chip attached that is used for storing the MicroPython interpreter and user code and data. Many of the basic file operations are available to list the contents of the flash chip and copy files to and from the host computer. Below is a summary.\n",
    "\n",
    "### Directory Listing"
   ]
  },
  {
   "cell_type": "code",
   "execution_count": 1,
   "metadata": {},
   "outputs": [
    {
     "name": "stdout",
     "output_type": "stream",
     "text": [
      "\u001b[34mConnected on /dev/cu.SLAB_USBtoUART\n",
      "\u001b[0m['remote', 'boot.py', 'code', 'liblib', 'lib']\n"
     ]
    }
   ],
   "source": [
    "%connect \"/dev/cu.SLAB_USBtoUART\"\n",
    "\n",
    "import os\n",
    "\n",
    "print(os.listdir('/'))"
   ]
  },
  {
   "cell_type": "markdown",
   "metadata": {},
   "source": [
    "`remote` is a virtual folder that points back to the files on the host. E.g."
   ]
  },
  {
   "cell_type": "code",
   "execution_count": 1,
   "metadata": {},
   "outputs": [
    {
     "name": "stdout",
     "output_type": "stream",
     "text": [
      "['plotclient.py', 'logging.py', 'board.py', '.DS_Store', 'functools.py', 'writer.py', 'mpu9250.py', 'upip.py', 'imu.py', 'urequests.py', 'freesans20.py', 'vector3d.py', 'ina219.py', 'oledfeather.py', 'ads1x15.py', 'mqttclient.py']\n"
     ]
    }
   ],
   "source": [
    "print(os.listdir('/remote/code/lib'))"
   ]
  },
  {
   "cell_type": "markdown",
   "metadata": {},
   "source": [
    "shows the names of files in the `lib` folder on the host computer.\n",
    "\n",
    "### Copy Files\n",
    "\n",
    "Use the `copy` command to copy a single file to the esp32 (or back to the host). E.g."
   ]
  },
  {
   "cell_type": "code",
   "execution_count": 1,
   "metadata": {},
   "outputs": [
    {
     "name": "stdout",
     "output_type": "stream",
     "text": [
      "Copying: /remote/code/lib/board.py -> /lib/board.py (654 bytes)\n"
     ]
    }
   ],
   "source": [
    "Util.mkdirs('/lib/')    \n",
    "Util.copy('/remote/code/lib/board.py', '/lib/board.py')"
   ]
  },
  {
   "cell_type": "markdown",
   "metadata": {},
   "source": [
    "creates a folder `lib` on the esp32 and copies the file `board.py` from the host."
   ]
  },
  {
   "cell_type": "markdown",
   "metadata": {},
   "source": [
    "### Synchronize Folder\n",
    "\n",
    "To copy an entire folder from the host to the esp32, use the `sync` command:"
   ]
  },
  {
   "cell_type": "code",
   "execution_count": 1,
   "metadata": {},
   "outputs": [
    {
     "name": "stdout",
     "output_type": "stream",
     "text": [
      "Copying: /remote/code/lib/plotclient.py -> /lib/plotclient.py (1229 bytes)\n",
      "Copying: /remote/code/lib/logging.py -> /lib/logging.py (1646 bytes)\n",
      "Up to date: /remote/code/lib/board.py\n",
      "Copying: /remote/code/lib/functools.py -> /lib/functools.py (591 bytes)\n",
      "Copying: /remote/code/lib/writer.py -> /lib/writer.py (5142 bytes)\n",
      "Copying: /remote/code/lib/mpu9250.py -> /lib/mpu9250.py (8945 bytes)\n",
      "Copying: /remote/code/lib/upip.py -> /lib/upip.py (7894 bytes)\n",
      "Copying: /remote/code/lib/imu.py -> /lib/imu.py (14331 bytes)\n",
      "Copying: /remote/code/lib/urequests.py -> /lib/urequests.py (2801 bytes)\n",
      "Copying: /remote/code/lib/freesans20.py -> /lib/freesans20.py (16985 bytes)\n",
      "Copying: /remote/code/lib/vector3d.py -> /lib/vector3d.py (4784 bytes)\n",
      "Copying: /remote/code/lib/ina219.py -> /lib/ina219.py (17314 bytes)\n",
      "Copying: /remote/code/lib/oledfeather.py -> /lib/oledfeather.py (634 bytes)\n",
      "Copying: /remote/code/lib/ads1x15.py -> /lib/ads1x15.py (8289 bytes)\n",
      "Copying: /remote/code/lib/mqttclient.py -> /lib/mqttclient.py (6753 bytes)\n"
     ]
    }
   ],
   "source": [
    "Util.sync('/remote/code/lib', '/', include='.*\\.py')"
   ]
  },
  {
   "cell_type": "markdown",
   "metadata": {},
   "source": [
    "The `sync` command is clever: it copies only files that have changed or are not already present on the esp32.\n",
    "\n",
    "### List all files on esp32\n",
    "\n",
    "Use the code below to list all files on the esp32:"
   ]
  },
  {
   "cell_type": "code",
   "execution_count": 1,
   "metadata": {},
   "outputs": [
    {
     "name": "stdout",
     "output_type": "stream",
     "text": [
      "/lib/board.py\n",
      "/lib/plotclient.py\n",
      "/lib/logging.py\n",
      "/lib/functools.py\n",
      "/lib/writer.py\n",
      "/lib/mpu9250.py\n",
      "/lib/upip.py\n",
      "/lib/imu.py\n",
      "/lib/urequests.py\n",
      "/lib/freesans20.py\n",
      "/lib/vector3d.py\n",
      "/lib/ina219.py\n",
      "/lib/oledfeather.py\n",
      "/lib/ads1x15.py\n",
      "/lib/mqttclient.py\n"
     ]
    }
   ],
   "source": [
    "for path in Util.walk('/'):\n",
    "    if path is '//remote': continue\n",
    "    print(path[1:])"
   ]
  },
  {
   "cell_type": "markdown",
   "metadata": {},
   "source": [
    "### Delete all files on esp32\n",
    "\n",
    "The code below removes all files on the esp32. You do not normally need this."
   ]
  },
  {
   "cell_type": "code",
   "execution_count": 1,
   "metadata": {},
   "outputs": [],
   "source": [
    "import os\n",
    "\n",
    "for path in Util.walk('/'):\n",
    "    if path is '//remote':\n",
    "        continue\n",
    "    print(\"remove\", path)\n",
    "    os.remove(path)"
   ]
  },
  {
   "cell_type": "markdown",
   "metadata": {},
   "source": [
    "# Libraries and `boot.py`\n",
    "\n",
    "Now that you have copied several library files to the esp32, you can use them. The code below imports the `board` library to refer to the LED on the eps32 by name, rather than number:"
   ]
  },
  {
   "cell_type": "code",
   "execution_count": 2,
   "metadata": {},
   "outputs": [],
   "source": [
    "from machine import Pin\n",
    "from board import LED\n",
    "import sys, time\n",
    "\n",
    "sys.path.append('/lib')\n",
    "\n",
    "led = Pin(LED, mode=Pin.OUT)\n",
    "\n",
    "for i in range(9):\n",
    "    led.value(not led.value())\n",
    "    time.sleep(0.5)"
   ]
  },
  {
   "cell_type": "markdown",
   "metadata": {},
   "source": [
    "The statement `sys.path.append('/lib')` tells Python to search the `/lib` folder when importing libraries. Since most programs use libraries saved in `/lib` (you can create additional folders and add them to the search path), it is conventient to execute the code that sets up the path automatically.\n",
    "\n",
    "Whenever the esp32 starts (after power up or pressing the reset button), it executes the file `boot.py` followed by `main.py` if it exists. Hence placing the following code\n",
    "\n",
    "```python\n",
    "import sys\n",
    "sys.path.append('/lib')\n",
    "```\n",
    "\n",
    "into a file named `boot.py` and copying it to the esp32 alleviates the need to include these statements in every program. Later we will add additional functionality to `boot.py`, e.g. for connecting to the wireless network."
   ]
  }
 ],
 "metadata": {
  "kernelspec": {
   "display_name": "MicroPython Remote",
   "language": "micropython",
   "name": "micropython"
  },
  "language_info": {
   "codemirror_mode": "python",
   "file_extension": ".py",
   "mimetype": "text/python",
   "name": "micropython"
  }
 },
 "nbformat": 4,
 "nbformat_minor": 2
}
