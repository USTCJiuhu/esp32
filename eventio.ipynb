{
 "cells": [
  {
   "cell_type": "markdown",
   "metadata": {},
   "source": [
    "# Eventio & Quadrature Decoders on ESP32\n",
    "\n",
    "Features to add to ESP32 MicroPython port:\n",
    "\n",
    "* `ReadyQueue`, `WaitQueue`: simple extensions of `deque`, `utimeq` (see below)\n",
    "* `timer.Chronometer`: esp32 has monotonic time in us (see below)\n",
    "* `machine.Decoder`: quadrature decoder, port from Lobo\n",
    "* `deepsleep` with state retention: use normal sleep"
   ]
  },
  {
   "cell_type": "code",
   "execution_count": 1,
   "metadata": {},
   "outputs": [
    {
     "name": "stdout",
     "output_type": "stream",
     "text": [
      "\u001b[34mConnected on /dev/cu.SLAB_USBtoUART\n",
      "\u001b[0m"
     ]
    }
   ],
   "source": [
    "%connect \"/dev/cu.SLAB_USBtoUART\""
   ]
  },
  {
   "cell_type": "markdown",
   "metadata": {},
   "source": [
    "## Time / Chronometer\n",
    "\n",
    "ESP32 offers `int64_t esp_timer_get_time()`\n",
    "\n",
    "*Get time in microseconds since boot.*\n",
    "\n",
    "See `ports/esp32/mphalport.c` for examples."
   ]
  },
  {
   "cell_type": "code",
   "execution_count": 1,
   "metadata": {},
   "outputs": [
    {
     "name": "stdout",
     "output_type": "stream",
     "text": [
      "['__class__', '__name__', 'append', 'popleft']\n"
     ]
    }
   ],
   "source": [
    "from collections import deque\n",
    "\n",
    "print(dir(deque))"
   ]
  },
  {
   "cell_type": "code",
   "execution_count": 1,
   "metadata": {},
   "outputs": [
    {
     "name": "stdout",
     "output_type": "stream",
     "text": [
      "['__class__', '__name__', 'peektime', 'pop', 'push']\n"
     ]
    }
   ],
   "source": [
    "from utimeq import utimeq\n",
    "\n",
    "print(dir(utimeq))"
   ]
  },
  {
   "cell_type": "markdown",
   "metadata": {},
   "source": [
    "## Ready Queue"
   ]
  },
  {
   "cell_type": "code",
   "execution_count": 1,
   "metadata": {},
   "outputs": [
    {
     "name": "stdout",
     "output_type": "stream",
     "text": [
      "empty            len =  0  empty = True\n",
      "3 items          len =  3  empty = False\n",
      "pop first\n",
      "pop second\n",
      "pop third\n",
      "empty            len =  0  empty = True\n",
      "pop first\n",
      "pop second\n",
      "pop third\n"
     ]
    }
   ],
   "source": [
    "from collections import deque\n",
    "\n",
    "class ReadyQueue(deque):\n",
    "    \n",
    "    def __init__(self, length):\n",
    "        self.maxlen = length\n",
    "        super().__init__((), length)\n",
    "    \n",
    "    def append(self, item):\n",
    "        if len(self) >= self.maxlen:\n",
    "            raise IndexError(\"waitq is full\")\n",
    "        return super().append(item)\n",
    "\n",
    "readyq = ReadyQueue(3)\n",
    "\n",
    "def state(rq, msg):\n",
    "    print(\"{:15s}  len = {:2d}  empty = {}\".format(msg, len(rq), not bool(rq)))\n",
    "    \n",
    "state(readyq, \"empty\")\n",
    "readyq.append(\"first\")\n",
    "readyq.append(\"second\")\n",
    "readyq.append(\"third\")\n",
    "state(readyq, \"3 items\")\n",
    "print(\"pop\", readyq.popleft())\n",
    "print(\"pop\", readyq.popleft())\n",
    "print(\"pop\", readyq.popleft())\n",
    "try:\n",
    "    print(\"pop\", readyq.popleft())\n",
    "    assert True, \"popping empty queue\"\n",
    "except IndexError:\n",
    "    pass\n",
    "state(readyq, \"empty\")\n",
    "readyq.append(\"first\")\n",
    "readyq.append(\"second\")\n",
    "readyq.append(\"third\")\n",
    "try:\n",
    "    readyq.append(\"fourth\")\n",
    "    assert True, \"appending to full readyq\"\n",
    "except:\n",
    "    pass\n",
    "print(\"pop\", readyq.popleft())\n",
    "print(\"pop\", readyq.popleft())\n",
    "print(\"pop\", readyq.popleft())\n"
   ]
  },
  {
   "cell_type": "markdown",
   "metadata": {},
   "source": [
    "## Wait Queue"
   ]
  },
  {
   "cell_type": "code",
   "execution_count": 1,
   "metadata": {},
   "outputs": [
    {
     "name": "stdout",
     "output_type": "stream",
     "text": [
      "init\n",
      "empty            len =  0  empty = True\n",
      "3 items          len =  3  empty = False\n",
      "peektime 1\n",
      "pop      t 1\n",
      "pop      t 3\n",
      "pop      t 7\n"
     ]
    }
   ],
   "source": [
    "from utimeq import utimeq\n",
    "\n",
    "class WaitQueue(utimeq):\n",
    "    \n",
    "    def __init__(self, length):\n",
    "        print(\"init\")\n",
    "        super().__init__(length)\n",
    "    \n",
    "    def push(self, time, item):\n",
    "        super().push(time, item, None)\n",
    "    \n",
    "    def pop(self):\n",
    "        r = [None, None, None]\n",
    "        super().pop(r)\n",
    "        return r[1]\n",
    "    \n",
    "waitq = WaitQueue(3)\n",
    "\n",
    "state(waitq, \"empty\")\n",
    "waitq.push(3, \"t 3\")\n",
    "waitq.push(7, \"t 7\")\n",
    "waitq.push(1, \"t 1\")\n",
    "try:\n",
    "    waitq.push(4, \"t 4\")\n",
    "    assert True, \"push full waitq\"\n",
    "except IndexError:\n",
    "    pass\n",
    "\n",
    "state(waitq, \"3 items\")\n",
    "print(\"peektime\", waitq.peektime())\n",
    "print(\"pop     \", waitq.pop())\n",
    "print(\"pop     \", waitq.pop())\n",
    "print(\"pop     \", waitq.pop())\n",
    "\n",
    "try:\n",
    "    print(\"pop     \", waitq.pop())\n",
    "    assert True, \"pop empty waitq\"\n",
    "except:\n",
    "    pass\n"
   ]
  },
  {
   "cell_type": "code",
   "execution_count": 1,
   "metadata": {},
   "outputs": [
    {
     "name": "stdout",
     "output_type": "stream",
     "text": [
      "us  308397246\n",
      "ms  5677106\n",
      "cpu 1002022201\n"
     ]
    }
   ],
   "source": [
    "import time\n",
    "\n",
    "print(\"us \", time.ticks_us())\n",
    "print(\"ms \", time.ticks_ms())\n",
    "print(\"cpu\", time.ticks_cpu())\n"
   ]
  },
  {
   "cell_type": "code",
   "execution_count": null,
   "metadata": {},
   "outputs": [],
   "source": []
  }
 ],
 "metadata": {
  "kernelspec": {
   "display_name": "MicroPython Remote",
   "language": "micropython",
   "name": "micropython"
  },
  "language_info": {
   "codemirror_mode": "python",
   "file_extension": ".py",
   "mimetype": "text/python",
   "name": "micropython"
  }
 },
 "nbformat": 4,
 "nbformat_minor": 2
}
