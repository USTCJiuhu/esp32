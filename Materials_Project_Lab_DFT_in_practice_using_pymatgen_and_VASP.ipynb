{
  "nbformat": 4,
  "nbformat_minor": 0,
  "metadata": {
    "colab": {
      "name": "Materials Project Lab: DFT in practice using pymatgen and VASP",
      "version": "0.3.2",
      "provenance": [],
      "collapsed_sections": [],
      "include_colab_link": true
    },
    "kernelspec": {
      "display_name": "Python 3",
      "language": "python",
      "name": "python3"
    }
  },
  "cells": [
    {
      "cell_type": "markdown",
      "metadata": {
        "id": "view-in-github",
        "colab_type": "text"
      },
      "source": [
        "<a href=\"https://colab.research.google.com/github/USTCJiuhu/esp32/blob/master/Materials_Project_Lab_DFT_in_practice_using_pymatgen_and_VASP.ipynb\" target=\"_parent\"><img src=\"https://colab.research.google.com/assets/colab-badge.svg\" alt=\"Open In Colab\"/></a>"
      ]
    },
    {
      "metadata": {
        "id": "43_g0UxZwP-Z",
        "colab_type": "text"
      },
      "cell_type": "markdown",
      "source": [
        "# Tutorial – DFT in practice using pymatgen and VASP\n",
        "## Follow along at https://bit.ly/2WesJmp (examples filled in) or https://colab.research.google.com/drive/1tQQd0mfC_vXB1ftWXZspJoOIIgWpXTGI (fill in the blanks).\n",
        "## Use \"File > Save a copy in Drive...\" to create your own copy to edit."
      ]
    },
    {
      "metadata": {
        "id": "FKqfIomAQ5Tt",
        "colab_type": "text"
      },
      "cell_type": "markdown",
      "source": [
        "# Introduction to VASP\n",
        "\n",
        "VASP (https://www.vasp.at) is:\n",
        "\n",
        "* An industry-leading DFT code for periodic systems (this means a plane-wave basis)\n",
        "* Developed at University of Vienna (Vienna Ab-initio Simulation Package), proprietary code ($$$)\n",
        "* Fast, (generally) reliable, trusted\n",
        "* Created ~1989, latest release in 2018, actively developed\n",
        "\n",
        "Alternatives to VASP: Quantum Espresso,  ABINIT, CASTEP, many more…"
      ]
    },
    {
      "metadata": {
        "id": "hjlo7P1EQ5ZT",
        "colab_type": "text"
      },
      "cell_type": "markdown",
      "source": [
        "# Essential ingredients for a VASP calculation\n",
        "\n",
        "You need **four files**, these are:\n",
        "\n",
        "1. A **POSCAR** file, defining the positions of the atoms and the lattice parameters of your cell\n",
        "2. An **INCAR** file, defining calculation settings\n",
        "3. A **KPOINTS** file, defining your integration points in the Brillouin zone\n",
        "4. A **POTCAR** file, defining your pseudopotentials"
      ]
    },
    {
      "metadata": {
        "id": "eS22qMaWQ5dn",
        "colab_type": "text"
      },
      "cell_type": "markdown",
      "source": [
        "# What is pymatgen, and why is it helpful?\n",
        "\n",
        "Pymatgen (https://pymatgen.org) can take in your crystal structure and help create your **INCAR**, **POSCAR**, **KPOINTS** and **POTCAR** for you, while avoiding many common pitfalls and errors.\n",
        "\n",
        "Pymatgen also supports many **common crystallographic transformations** to modify your crystal structure for you. This will be important in a later lab for the bulk modulus calculation which requires doing calculations on a series of deformed crystal structures corresponding to different strains.\n",
        "\n",
        "Finally, pymatgen can help **analyze the output** of a VASP calculation to make it easier to process, extract useful information from, or incorporate into graphs or reports."
      ]
    },
    {
      "metadata": {
        "id": "EkqtCbIoQ5ht",
        "colab_type": "text"
      },
      "cell_type": "markdown",
      "source": [
        "# Is this useful to know if I'm not intending to run any DFT personally?\n",
        "\n",
        "*Maybe*, knowledge of using pymatgen can help:\n",
        "\n",
        "* Access the Material Project's database of over 130,000 materials and their associated properties\n",
        "* Perform many analysis tasks such as generating phase diagrams, Pourbaix (aqueous stability), band structures, etc.\n",
        "* **Can provide insight into the correct settings for a DFT calculation** if you're reviewing a paper"
      ]
    },
    {
      "metadata": {
        "id": "9ax0AsISwP-c",
        "colab_type": "text"
      },
      "cell_type": "markdown",
      "source": [
        "# 1. Install and import pymatgen"
      ]
    },
    {
      "metadata": {
        "id": "W8D19bSywP-d",
        "colab_type": "text"
      },
      "cell_type": "markdown",
      "source": [
        "First, let's verify we have pymatgen installed. The following command should produce no error or warning:"
      ]
    },
    {
      "metadata": {
        "id": "8I8cha76wP-e",
        "colab_type": "code",
        "colab": {}
      },
      "cell_type": "code",
      "source": [
        "import pymatgen"
      ],
      "execution_count": 0,
      "outputs": []
    },
    {
      "metadata": {
        "id": "OmycheCCwP-n",
        "colab_type": "text"
      },
      "cell_type": "markdown",
      "source": [
        "In a Jupyter notebook such as Google Colaboratory, installing pymatgen is often as easy as running `!pip install pymatgen` (note the leading !), so let's do that now."
      ]
    },
    {
      "metadata": {
        "id": "rrAnaGQKL5kL",
        "colab_type": "code",
        "colab": {}
      },
      "cell_type": "code",
      "source": [
        "!pip install pymatgen"
      ],
      "execution_count": 0,
      "outputs": []
    },
    {
      "metadata": {
        "id": "4RBeAECwL7pq",
        "colab_type": "text"
      },
      "cell_type": "markdown",
      "source": [
        "Now if we import pymatgen it should work correctly:"
      ]
    },
    {
      "metadata": {
        "id": "6ImIC_B8L6-w",
        "colab_type": "code",
        "colab": {}
      },
      "cell_type": "code",
      "source": [
        "import pymatgen"
      ],
      "execution_count": 0,
      "outputs": []
    },
    {
      "metadata": {
        "id": "hqXACDfnQINo",
        "colab_type": "text"
      },
      "cell_type": "markdown",
      "source": [
        "And we can also check the version of pymatgen we hvae installed:"
      ]
    },
    {
      "metadata": {
        "id": "q95jVR3cwP-o",
        "colab_type": "code",
        "colab": {}
      },
      "cell_type": "code",
      "source": [
        "print(pymatgen.__version__)"
      ],
      "execution_count": 0,
      "outputs": []
    },
    {
      "metadata": {
        "id": "MZ-_BlV3wP-r",
        "colab_type": "text"
      },
      "cell_type": "markdown",
      "source": [
        "For a list of new features, bug fixes and other changes, consult the [changelog on pymatgen.org](http://pymatgen.org/change_log.html). Note that following the example of the larger Python community, pymatgen only supports Python 3+ as of 2019."
      ]
    },
    {
      "metadata": {
        "id": "fji3fIGxMvLF",
        "colab_type": "text"
      },
      "cell_type": "markdown",
      "source": [
        "# 2. Download some example data\n",
        "\n",
        "For this tutorial, we've prepared some example data to play with. Let's download it into our notebook by evaluating this next cell."
      ]
    },
    {
      "metadata": {
        "id": "axIT7amtMy5O",
        "colab_type": "code",
        "colab": {}
      },
      "cell_type": "code",
      "source": [
        "def download_example_files():\n",
        "    \n",
        "    from urllib.request import urlretrieve\n",
        "    from os.path import basename\n",
        "    \n",
        "    example_files = ('LiFePO4.cif',\n",
        "                     'fe_monomer/OUTCAR', 'fe_monomer/vasprun.xml',\n",
        "                     'vasprun.xml.unconverged', 'vasprun_Si_bands.xml')\n",
        "    \n",
        "    root_path = \"https://raw.githubusercontent.com/materialsproject/pymatgen/master/test_files\"\n",
        "    \n",
        "    for file in example_files:\n",
        "        urlretrieve(f\"{root_path}/{file}\", basename(file))\n",
        "        print(f\"Downloaded {file}\")\n",
        "    \n",
        "    print(\"All example files downloaded successfully!\")\n",
        "\n",
        "download_example_files()"
      ],
      "execution_count": 0,
      "outputs": []
    },
    {
      "metadata": {
        "id": "8iWVUwGzwP-3",
        "colab_type": "text"
      },
      "cell_type": "markdown",
      "source": [
        "# 3. Introducing Structures and Molecules, the fundamental building blocks in pymatgen\n",
        "\n",
        "Most of the fundamentals of pymatgen are expressed in terms of [**`Structure`**](http://pymatgen.org/pymatgen.core.structure.html#pymatgen.core.structure.Structure) and [**`Molecule`**](http://pymatgen.org/pymatgen.core.structure.html#pymatgen.core.structure.Molecule) objects.\n",
        "\n",
        "While we will mostly be using `Structure`, `Stucture` and `Molecule` are very similar conceptually. The main difference is that `Structure` supports full periodicity required to describe crystallographic structures."
      ]
    },
    {
      "metadata": {
        "id": "-MnOxVV8wP_l",
        "colab_type": "text"
      },
      "cell_type": "markdown",
      "source": [
        "## 3.1 Creating a `Structure` and `Lattice`"
      ]
    },
    {
      "metadata": {
        "id": "ZnBnYgrfwP_m",
        "colab_type": "code",
        "colab": {}
      },
      "cell_type": "code",
      "source": [
        "from pymatgen import Structure, Lattice"
      ],
      "execution_count": 0,
      "outputs": []
    },
    {
      "metadata": {
        "id": "8mrbPC1jwP_n",
        "colab_type": "text"
      },
      "cell_type": "markdown",
      "source": [
        "A `Lattice` can be created in one of several ways. Such as by inputting a 3x3 matrix describing the individual lattice vectors. For example, a cubic lattice of length 5 Ångstrom:\n",
        "\n"
      ]
    },
    {
      "metadata": {
        "id": "hPRpXHq3wP_o",
        "colab_type": "code",
        "colab": {}
      },
      "cell_type": "code",
      "source": [
        "my_lattice = Lattice([[5, 0, 0], [0, 5, 0], [0, 0, 5]])"
      ],
      "execution_count": 0,
      "outputs": []
    },
    {
      "metadata": {
        "id": "ePRaE0R_wP_p",
        "colab_type": "code",
        "colab": {}
      },
      "cell_type": "code",
      "source": [
        "my_lattice"
      ],
      "execution_count": 0,
      "outputs": []
    },
    {
      "metadata": {
        "id": "O84aBLN4wP_q",
        "colab_type": "text"
      },
      "cell_type": "markdown",
      "source": [
        "Equivalently, we can create it from its lattice parameters:"
      ]
    },
    {
      "metadata": {
        "id": "nP2YX2JvwP_r",
        "colab_type": "code",
        "colab": {}
      },
      "cell_type": "code",
      "source": [
        "my_lattice_2 = Lattice.from_parameters(5, 5, 5, 90, 90, 90)  # a, b, c, alpha, beta, gamma"
      ],
      "execution_count": 0,
      "outputs": []
    },
    {
      "metadata": {
        "id": "SxkiLnTMwP_s",
        "colab_type": "text"
      },
      "cell_type": "markdown",
      "source": [
        "Or, since we know in this case we have a cubic lattice, so a == b == c and alpha == beta == gamma == 90 degrees, we can simply put:"
      ]
    },
    {
      "metadata": {
        "id": "AsrPkiaFwP_s",
        "colab_type": "code",
        "colab": {}
      },
      "cell_type": "code",
      "source": [
        "my_lattice_3 = Lattice.cubic(5)"
      ],
      "execution_count": 0,
      "outputs": []
    },
    {
      "metadata": {
        "id": "c1SHOq4iwP_t",
        "colab_type": "text"
      },
      "cell_type": "markdown",
      "source": [
        "In all cases, these lattices are the same:"
      ]
    },
    {
      "metadata": {
        "id": "k9Qh-jRjwP_u",
        "colab_type": "code",
        "colab": {}
      },
      "cell_type": "code",
      "source": [
        "my_lattice == my_lattice_2 == my_lattice_3"
      ],
      "execution_count": 0,
      "outputs": []
    },
    {
      "metadata": {
        "id": "XqirERr2wP_v",
        "colab_type": "text"
      },
      "cell_type": "markdown",
      "source": [
        "Now, we can create a crystal structure very easily. Let's start with body-centered-cubic iron, which in its conventional setting is a cubic lattice with a two atom basis:"
      ]
    },
    {
      "metadata": {
        "id": "_bfH5xNGwP_w",
        "colab_type": "code",
        "colab": {}
      },
      "cell_type": "code",
      "source": [
        "fe = Structure(Lattice.cubic(2.8), [\"Fe\", \"Fe\"], [[0, 0, 0], [0.5, 0.5, 0.5]])"
      ],
      "execution_count": 0,
      "outputs": []
    },
    {
      "metadata": {
        "id": "gRugBIEYwP_x",
        "colab_type": "code",
        "colab": {}
      },
      "cell_type": "code",
      "source": [
        "print(fe)"
      ],
      "execution_count": 0,
      "outputs": []
    },
    {
      "metadata": {
        "id": "kPEaj05hwP_z",
        "colab_type": "text"
      },
      "cell_type": "markdown",
      "source": [
        "We provide three arguments to create this Structure object: the first is a Lattice, the second is a list of species (here, two irons), and then a list of the positions of the sites containing these species in *fractional co-ordinates*.\n",
        "\n",
        "It's also possible to create an equivalent `Structure` using Cartesian co-ordinates:"
      ]
    },
    {
      "metadata": {
        "id": "0A-RNKRRwP_z",
        "colab_type": "code",
        "colab": {}
      },
      "cell_type": "code",
      "source": [
        "fe_from_cart = Structure(Lattice.cubic(2.8), [\"Fe\", \"Fe\"], [[0, 0, 0], [1.4, 1.4, 1.4]],\n",
        "                             coords_are_cartesian=True)"
      ],
      "execution_count": 0,
      "outputs": []
    },
    {
      "metadata": {
        "id": "QeUkkAp7wP_0",
        "colab_type": "code",
        "colab": {}
      },
      "cell_type": "code",
      "source": [
        "print(fe_from_cart)"
      ],
      "execution_count": 0,
      "outputs": []
    },
    {
      "metadata": {
        "id": "x25z7-lUwP_1",
        "colab_type": "text"
      },
      "cell_type": "markdown",
      "source": [
        "We see check that both structures are equivalent:"
      ]
    },
    {
      "metadata": {
        "id": "13W94mT7wP_2",
        "colab_type": "code",
        "colab": {}
      },
      "cell_type": "code",
      "source": [
        "fe == fe_from_cart"
      ],
      "execution_count": 0,
      "outputs": []
    },
    {
      "metadata": {
        "id": "q2imNe0QwP_3",
        "colab_type": "text"
      },
      "cell_type": "markdown",
      "source": [
        "We can then access many properties of the structure, such as its volume:"
      ]
    },
    {
      "metadata": {
        "id": "JZlsx3lawP_4",
        "colab_type": "code",
        "colab": {}
      },
      "cell_type": "code",
      "source": [
        "print(\"Volume in Ångstroms^3\", fe.volume)\n",
        "print(\"Space group\", fe.get_space_group_info())"
      ],
      "execution_count": 0,
      "outputs": []
    },
    {
      "metadata": {
        "id": "CVZndQd2wP_P",
        "colab_type": "text"
      },
      "cell_type": "markdown",
      "source": [
        "Or to access the first site (note that Python is a 0-indexed programming language, so the first site is site 0):"
      ]
    },
    {
      "metadata": {
        "id": "BWC2xJSawP_Q",
        "colab_type": "code",
        "colab": {}
      },
      "cell_type": "code",
      "source": [
        "fe[0]"
      ],
      "execution_count": 0,
      "outputs": []
    },
    {
      "metadata": {
        "id": "FPAdl80iwP_6",
        "colab_type": "text"
      },
      "cell_type": "markdown",
      "source": [
        "## 3.2 Modifying a Structure"
      ]
    },
    {
      "metadata": {
        "id": "bs-iqA0wwP_6",
        "colab_type": "text"
      },
      "cell_type": "markdown",
      "source": [
        "We can create a supercell by multiplying the structure by a number of repeats:"
      ]
    },
    {
      "metadata": {
        "id": "VcW84shAwP_6",
        "colab_type": "code",
        "colab": {}
      },
      "cell_type": "code",
      "source": [
        "fe_repeated = fe*(2,2,2)"
      ],
      "execution_count": 0,
      "outputs": []
    },
    {
      "metadata": {
        "id": "NpVjlLt3wP_7",
        "colab_type": "code",
        "colab": {}
      },
      "cell_type": "code",
      "source": [
        "fe_repeated"
      ],
      "execution_count": 0,
      "outputs": []
    },
    {
      "metadata": {
        "id": "7fAZ2mJpwP_8",
        "colab_type": "text"
      },
      "cell_type": "markdown",
      "source": [
        "There are many methods to modify the structure, such as scaling the volume or substituting one species with another species. There are also various *transformations* in pymatgen that can do more complicated structure manipulations, such as creating surfaces, grain boundaries or creating ordered approximations of disordered structure."
      ]
    },
    {
      "metadata": {
        "id": "vBmcdVY49uQl",
        "colab_type": "code",
        "colab": {}
      },
      "cell_type": "code",
      "source": [
        "fe_primitive = fe.get_primitive_structure()"
      ],
      "execution_count": 0,
      "outputs": []
    },
    {
      "metadata": {
        "id": "On2HklLm956q",
        "colab_type": "code",
        "colab": {}
      },
      "cell_type": "code",
      "source": [
        "fe_primitive"
      ],
      "execution_count": 0,
      "outputs": []
    },
    {
      "metadata": {
        "id": "qUauqyNuwP_8",
        "colab_type": "text"
      },
      "cell_type": "markdown",
      "source": [
        "## 3.3 Creating Structure from Spacegroups"
      ]
    },
    {
      "metadata": {
        "id": "Ip_NeRSGwP_9",
        "colab_type": "text"
      },
      "cell_type": "markdown",
      "source": [
        "Structures can also be created directly from their spacegroup:"
      ]
    },
    {
      "metadata": {
        "id": "9cSwmgPuwP_9",
        "colab_type": "code",
        "colab": {}
      },
      "cell_type": "code",
      "source": [
        "bcc_fe = Structure.from_spacegroup(\"Im-3m\", Lattice.cubic(2.8), [\"Fe\"], [[0, 0, 0]])\n",
        "print(bcc_fe)"
      ],
      "execution_count": 0,
      "outputs": []
    },
    {
      "metadata": {
        "id": "w66I1sqtuDzO",
        "colab_type": "text"
      },
      "cell_type": "markdown",
      "source": [
        "In this next example, we annotate our species with oxidation state, that is we specifiy `Na+` instead of `Na` and `Cl-` instead of `Cl`. Pymatgen understands  the concept of oxidation state, and will convert these strings as appropriate."
      ]
    },
    {
      "metadata": {
        "id": "xtsPkKMywP_-",
        "colab_type": "code",
        "colab": {}
      },
      "cell_type": "code",
      "source": [
        "nacl = Structure.from_spacegroup(\"Fm-3m\", Lattice.cubic(5.692), [\"Na+\", \"Cl-\"],\n",
        "                                 [[0, 0, 0], [0.5, 0.5, 0.5]])\n",
        "print(nacl)"
      ],
      "execution_count": 0,
      "outputs": []
    },
    {
      "metadata": {
        "id": "PGUEn7k7wQAA",
        "colab_type": "text"
      },
      "cell_type": "markdown",
      "source": [
        "## 3.4 Creating a Disordered Structure"
      ]
    },
    {
      "metadata": {
        "id": "AlLVj3CewQAA",
        "colab_type": "text"
      },
      "cell_type": "markdown",
      "source": [
        "**Disordered** structures, that is structures with a mix of two or more types of species on a single site, are not appropriate for DFT calculations. However, experimental structures are often provided as disordered structures, and pymatgen has the capability to understand these. Here, as an example, we create a CuAu solid solution:"
      ]
    },
    {
      "metadata": {
        "id": "5Ng7_OamwQAA",
        "colab_type": "code",
        "colab": {}
      },
      "cell_type": "code",
      "source": [
        "composition = {\"Cu\": 0.5, \"Au\":0.5}\n",
        "cu_au = Structure.from_spacegroup(\"Fm-3m\", Lattice.cubic(3.677), [composition], [[0, 0, 0]])\n",
        "print(cu_au)"
      ],
      "execution_count": 0,
      "outputs": []
    },
    {
      "metadata": {
        "id": "V-nT2GJCwQAC",
        "colab_type": "text"
      },
      "cell_type": "markdown",
      "source": [
        "## 3.5 Input/output from other standard file formats\n",
        "\n",
        "Pymatgen supports a wide range of input/output formats, if it's in common usage pymatgen probably supports it. We will demonstrate loading a structure from a CIF file:"
      ]
    },
    {
      "metadata": {
        "id": "BY9Nh6HlwQAD",
        "colab_type": "code",
        "colab": {}
      },
      "cell_type": "code",
      "source": [
        "struct = Structure.from_file('LiFePO4.cif')\n",
        "print(struct)"
      ],
      "execution_count": 0,
      "outputs": []
    },
    {
      "metadata": {
        "id": "Nh5R2c0WwCVG",
        "colab_type": "text"
      },
      "cell_type": "markdown",
      "source": [
        "It is also possible to load structures in pymatgen directly from the Materials Project via their Materials Project ID (e.g. mp-13 is bcc Fe, https://materialsproject.org/mp-13) and the Materials Proejct API but this is not covered in this tutorial. "
      ]
    },
    {
      "metadata": {
        "id": "Wm7y9jQOw_1u",
        "colab_type": "text"
      },
      "cell_type": "markdown",
      "source": [
        "# 4. Introducing VASP Input Sets"
      ]
    },
    {
      "metadata": {
        "id": "HJcAfLJ3xEJ-",
        "colab_type": "text"
      },
      "cell_type": "markdown",
      "source": [
        "Now we have a crystal structure created, let's examine how to create the **POSCAR**, **INCAR**, **KPOINTS** and **POTCAR** files VASP requires.\n",
        "\n",
        "To do this, pymatgen has the concept of a \"VASP Input Set\", where multiple sets exist depending on the type of calculation you want to perform. Some of the main ones are:\n",
        "\n",
        "* `MPRelaxSet` -- the standard input set, this will set up a calculation that allows atoms to relax to their equilibirum positions and lattice parameters to relax\n",
        "* `MPStaticSet` -- this is just to calculate the ground state electron density, keeping all atoms fixed, typically useful prior to a bandstructure calculation or for more accurate energies than an `MPRelaxSet`\n",
        "* `MPNonSCFSet` -- this is to generate a band structure or density of states, typically this is done at much higher k-point densities but without self-consistence being enforced\n",
        "* `MPSOCSet` -- a more expensive input set for when spin-orbit coupling has to be considered\n",
        "* `MPMDSet`  -- an input set for ab initio molecular dynamics\n",
        "\n",
        "...and more.\n",
        "\n",
        "These are often chained together, e.g. `MPRelaxSet` --> `MPStaticSet` --> `MPNonSCFSet`. Our other Python code, `atomate`, helps chain these calculations together and run them automatically."
      ]
    },
    {
      "metadata": {
        "id": "4jg-zNTc5p0m",
        "colab_type": "text"
      },
      "cell_type": "markdown",
      "source": [
        "## 4.1 Creating a VASP Input Set"
      ]
    },
    {
      "metadata": {
        "id": "7CSKIl4NxPcd",
        "colab_type": "code",
        "colab": {}
      },
      "cell_type": "code",
      "source": [
        "from pymatgen.io.vasp.sets import MPRelaxSet"
      ],
      "execution_count": 0,
      "outputs": []
    },
    {
      "metadata": {
        "id": "KJfMBs-2xXfL",
        "colab_type": "code",
        "colab": {}
      },
      "cell_type": "code",
      "source": [
        "vis = MPRelaxSet(fe)"
      ],
      "execution_count": 0,
      "outputs": []
    },
    {
      "metadata": {
        "id": "vvlrM-Yd8BTo",
        "colab_type": "text"
      },
      "cell_type": "markdown",
      "source": [
        "From here, all the VASP input files can be written using `vis.write_input(...)` but let's look at each input file in turn. To run the calculation, you would then simply run the command `vasp` (or an equivalent in multiprocessing environments, such as `mpirun vasp`) inside the directory containing these files."
      ]
    },
    {
      "metadata": {
        "id": "cYtMInQI5wmR",
        "colab_type": "text"
      },
      "cell_type": "markdown",
      "source": [
        "## 4.2 Examining the POSCAR"
      ]
    },
    {
      "metadata": {
        "id": "dewHC4_g75Yy",
        "colab_type": "text"
      },
      "cell_type": "markdown",
      "source": [
        "The POSCAR contains the positions and types of all the atoms and the lattice parameters and can eb read as follows:"
      ]
    },
    {
      "metadata": {
        "id": "j-tidD9J5vrj",
        "colab_type": "code",
        "colab": {}
      },
      "cell_type": "code",
      "source": [
        "vis.poscar"
      ],
      "execution_count": 0,
      "outputs": []
    },
    {
      "metadata": {
        "id": "jf7Wb9BF9Rdx",
        "colab_type": "text"
      },
      "cell_type": "markdown",
      "source": [
        "## 4.4 Examining the INCAR"
      ]
    },
    {
      "metadata": {
        "id": "2vuZToJSBhb4",
        "colab_type": "text"
      },
      "cell_type": "markdown",
      "source": [
        "The INCAR file contains various calculation settings ('tags'). These tags will not mean much without reference to the [VASP manual](https://cms.mpi.univie.ac.at/wiki/index.php/Category:INCAR); there are lots of 'magic numbers.'"
      ]
    },
    {
      "metadata": {
        "id": "yPPCFOK79Qum",
        "colab_type": "code",
        "colab": {}
      },
      "cell_type": "code",
      "source": [
        "vis.incar"
      ],
      "execution_count": 0,
      "outputs": []
    },
    {
      "metadata": {
        "id": "gvUTSMboCoRl",
        "colab_type": "text"
      },
      "cell_type": "markdown",
      "source": [
        "Most tags have default values, so only tags that we want to set explicitly are listed here.\n",
        "\n",
        "* **ALGO:** Electronic minimization algorithm\n",
        "* **EDIFF:** Criteria after which the electronic minimization is stopped, marking the end of the electronic loop\n",
        "* **ENCUT:** Energy cut-off for the plane wave basis in eV\n",
        "* **IBRION:** Algorithm for how to update the positions of ions once the electronic loop completes\n",
        "* **ICHARG:** Controls how the initial charge density is set before electronic minimization starts\n",
        "* **ISIF:**  Specifies degrees of freedom (are atoms fixed, lattice parameters fixed, both, neither, etc.)\n",
        "* **ISMEAR:** Controls how integration is preformed between k-points\n",
        "* **ISPIN:** Whether to do a spin-polarized (i.e. allowing for magnetic moments) or non-spin-polarized calculation\n",
        "* **LORBIT:** Does not change calculation, but does change what final analysis is done and what files are generated\n",
        "* **LREAL:** Advanced setting (see manual for more information)\n",
        "* **LWAVE:** Does not change calculation, but determines whether or not to write the full wavefunction at the end of the calculation\n",
        "* **MAGMOM:** Related to `ISPIN`\n",
        "* **NELM:** Maximum number of electronic steps considered, typically only need 3-7, 99 is very high!\n",
        "* **NSW:** Maximum number of ionic steps\n",
        "* **PREC:** Influences a variety of other settings, such as the dimensions of the FFT grid\n",
        "* **SIGMA:** Related to `ISMEAR`"
      ]
    },
    {
      "metadata": {
        "id": "MZVMKo81IpzS",
        "colab_type": "text"
      },
      "cell_type": "markdown",
      "source": [
        "There are 278 in total! The purpose of the input set is so that you don't, in general, have to think about these. However note that some are very important for the resulting quality of your calculation and also for its speed."
      ]
    },
    {
      "metadata": {
        "id": "3aF5QwZC9hOv",
        "colab_type": "text"
      },
      "cell_type": "markdown",
      "source": [
        "## 4.4 Examining the KPOINTS"
      ]
    },
    {
      "metadata": {
        "id": "DO6LWxP81pBc",
        "colab_type": "text"
      },
      "cell_type": "markdown",
      "source": [
        "The KPOINTS file specifies the integration points in your Brillouin zone. They can be given explicitly, or can be specified as a uniform grid of points. "
      ]
    },
    {
      "metadata": {
        "id": "suoiOA9o9cb6",
        "colab_type": "code",
        "colab": {}
      },
      "cell_type": "code",
      "source": [
        "vis.kpoints"
      ],
      "execution_count": 0,
      "outputs": []
    },
    {
      "metadata": {
        "id": "t5C-bXJyOza6",
        "colab_type": "code",
        "colab": {}
      },
      "cell_type": "code",
      "source": [
        "# to visualize an grid in reciprocal space\n",
        "from pymatgen.symmetry.analyzer import SpacegroupAnalyzer\n",
        "from pymatgen.electronic_structure.plotter import plot_brillouin_zone\n",
        "sga = SpacegroupAnalyzer(fe)\n",
        "kpts = [k[0] for k in sga.get_ir_reciprocal_mesh((8,8,8))]\n",
        "print(\"Number of k-points in irreducible Brillouin zone:\", len(kpts))\n",
        "plot_brillouin_zone(bcc_fe.lattice.reciprocal_lattice, kpoints=kpts)"
      ],
      "execution_count": 0,
      "outputs": []
    },
    {
      "metadata": {
        "id": "5PFZyx0m_Ia9",
        "colab_type": "text"
      },
      "cell_type": "markdown",
      "source": [
        "## 4.5 Examining the POTCAR (?!)"
      ]
    },
    {
      "metadata": {
        "id": "vrSYHEzt_PL4",
        "colab_type": "text"
      },
      "cell_type": "markdown",
      "source": [
        "The POTCAR file contains information on the *pseudopotentials* used for your calculations. These speed up the calculation by allowing the nucleus and core electrons to be considered together as an effective potential, so that only the valence electrons involved in bonding are calculated.\n",
        "\n",
        "Unfortunately, VASP POTCAR files are proprietary so cannot be shared here, which is why this produces an error."
      ]
    },
    {
      "metadata": {
        "id": "e3OkThLw_Iks",
        "colab_type": "code",
        "colab": {}
      },
      "cell_type": "code",
      "source": [
        "#vis.potcar  # this won't work unless you have a directory of POTCAR files available"
      ],
      "execution_count": 0,
      "outputs": []
    },
    {
      "metadata": {
        "id": "p_cht61g-1uA",
        "colab_type": "text"
      },
      "cell_type": "markdown",
      "source": [
        "## 4.5 Try a different structure"
      ]
    },
    {
      "metadata": {
        "id": "vn4nxvVk1D5P",
        "colab_type": "text"
      },
      "cell_type": "markdown",
      "source": [
        "Note that the VASP input set parameters are structure-specific. If we generate a new input with our larger supercell, we note that the k-point mesh is correspondingly reduced."
      ]
    },
    {
      "metadata": {
        "id": "YGDFhnke0NUX",
        "colab_type": "code",
        "colab": {}
      },
      "cell_type": "code",
      "source": [
        "MPRelaxSet(fe_repeated).kpoints"
      ],
      "execution_count": 0,
      "outputs": []
    },
    {
      "metadata": {
        "id": "B8zKfdy0-4zZ",
        "colab_type": "text"
      },
      "cell_type": "markdown",
      "source": [
        "## 4.6 Try a different input set"
      ]
    },
    {
      "metadata": {
        "id": "54y7bUUl1eIO",
        "colab_type": "text"
      },
      "cell_type": "markdown",
      "source": [
        "This input set is used for a band structure calculation."
      ]
    },
    {
      "metadata": {
        "id": "TwbgNw6tNQGz",
        "colab_type": "code",
        "colab": {}
      },
      "cell_type": "code",
      "source": [
        "from pymatgen.io.vasp.sets import MPNonSCFSet"
      ],
      "execution_count": 0,
      "outputs": []
    },
    {
      "metadata": {
        "id": "8sMrPtpB_AWh",
        "colab_type": "code",
        "colab": {}
      },
      "cell_type": "code",
      "source": [
        "vis = MPNonSCFSet(fe_primitive)"
      ],
      "execution_count": 0,
      "outputs": []
    },
    {
      "metadata": {
        "id": "W_igwAoD1bXH",
        "colab_type": "code",
        "colab": {}
      },
      "cell_type": "code",
      "source": [
        "vis.kpoints"
      ],
      "execution_count": 0,
      "outputs": []
    },
    {
      "metadata": {
        "id": "2yKZ5aCg1uJy",
        "colab_type": "text"
      },
      "cell_type": "markdown",
      "source": [
        "We can also visualize these kpoints, and see that they draw a line through reciprocal space."
      ]
    },
    {
      "metadata": {
        "id": "adUfoZaNOa9L",
        "colab_type": "code",
        "colab": {}
      },
      "cell_type": "code",
      "source": [
        "from pymatgen.electronic_structure.plotter import plot_brillouin_zone\n",
        "plot_brillouin_zone(vis.structure.lattice.reciprocal_lattice, labels={label:coords for label, coords in zip(vis.kpoints.labels, vis.kpoints.kpts)}, kpoints=vis.kpoints.kpts)"
      ],
      "execution_count": 0,
      "outputs": []
    },
    {
      "metadata": {
        "id": "X04k3w7A8RZB",
        "colab_type": "text"
      },
      "cell_type": "markdown",
      "source": [
        "# 5 Examining VASP Output"
      ]
    },
    {
      "metadata": {
        "id": "hTMPz5Kc0DdI",
        "colab_type": "text"
      },
      "cell_type": "markdown",
      "source": [
        "There are two main outputs for any successfully completed VASP calculation: an OUTCAR file and a vasprun.xml. Both files contain essentially the same information, but the OUTCAR file is more human readable, "
      ]
    },
    {
      "metadata": {
        "id": "mujBjGKCPWIc",
        "colab_type": "code",
        "colab": {}
      },
      "cell_type": "code",
      "source": [
        "from pymatgen.io.vasp.outputs import Vasprun, Outcar"
      ],
      "execution_count": 0,
      "outputs": []
    },
    {
      "metadata": {
        "id": "R87q9DbTgO6F",
        "colab_type": "code",
        "colab": {}
      },
      "cell_type": "code",
      "source": [
        "vasprun = Vasprun('vasprun.xml')\n",
        "outcar = Outcar('OUTCAR')"
      ],
      "execution_count": 0,
      "outputs": []
    },
    {
      "metadata": {
        "id": "6iy91PjO3Vwg",
        "colab_type": "text"
      },
      "cell_type": "markdown",
      "source": [
        "We can examine various outputs from the calculation by accessing properties of the Vasprun object:"
      ]
    },
    {
      "metadata": {
        "id": "BKCJomxAz8B7",
        "colab_type": "code",
        "colab": {}
      },
      "cell_type": "code",
      "source": [
        "vasprun.kpoints"
      ],
      "execution_count": 0,
      "outputs": []
    },
    {
      "metadata": {
        "id": "1nHIpNjLz9ry",
        "colab_type": "code",
        "colab": {}
      },
      "cell_type": "code",
      "source": [
        "vasprun.actual_kpoints"
      ],
      "execution_count": 0,
      "outputs": []
    },
    {
      "metadata": {
        "id": "MD-JPZL3z41j",
        "colab_type": "code",
        "colab": {}
      },
      "cell_type": "code",
      "source": [
        "vasprun.final_structure"
      ],
      "execution_count": 0,
      "outputs": []
    },
    {
      "metadata": {
        "id": "FoDuQDMfzwP2",
        "colab_type": "code",
        "colab": {}
      },
      "cell_type": "code",
      "source": [
        "vasprun.final_energy"
      ],
      "execution_count": 0,
      "outputs": []
    },
    {
      "metadata": {
        "id": "vaNUKo9w3m3U",
        "colab_type": "text"
      },
      "cell_type": "markdown",
      "source": [
        "And gain information on how the calculation proceeded and how convergence was reached:"
      ]
    },
    {
      "metadata": {
        "id": "eLBx46ZWgSzi",
        "colab_type": "code",
        "colab": {}
      },
      "cell_type": "code",
      "source": [
        "[v['e_0_energy'] for v in vasprun.ionic_steps[0]['electronic_steps']]"
      ],
      "execution_count": 0,
      "outputs": []
    },
    {
      "metadata": {
        "id": "OanfrJdd6_Pv",
        "colab_type": "text"
      },
      "cell_type": "markdown",
      "source": [
        "Not all information is in both the OUTCAR and vasprun.xml, for example run stats:"
      ]
    },
    {
      "metadata": {
        "id": "bTGIJZna3xcW",
        "colab_type": "code",
        "colab": {}
      },
      "cell_type": "code",
      "source": [
        "outcar.run_stats"
      ],
      "execution_count": 0,
      "outputs": []
    },
    {
      "metadata": {
        "id": "pKVrSl947_Sf",
        "colab_type": "text"
      },
      "cell_type": "markdown",
      "source": [
        "## 5.1 Example of an unconverged run"
      ]
    },
    {
      "metadata": {
        "id": "sPugnyNn3hMj",
        "colab_type": "text"
      },
      "cell_type": "markdown",
      "source": [
        "Let's examine an unconverged Vasprun to see how it differs:"
      ]
    },
    {
      "metadata": {
        "id": "LEha_FAe69km",
        "colab_type": "code",
        "colab": {}
      },
      "cell_type": "code",
      "source": [
        "vasprun_unconverged = Vasprun('vasprun.xml.unconverged')"
      ],
      "execution_count": 0,
      "outputs": []
    },
    {
      "metadata": {
        "id": "-UkFmNDQ7Mcc",
        "colab_type": "code",
        "colab": {}
      },
      "cell_type": "code",
      "source": [
        "vasprun_unconverged.converged_ionic"
      ],
      "execution_count": 0,
      "outputs": []
    },
    {
      "metadata": {
        "id": "yot3lbit7Qi0",
        "colab_type": "code",
        "colab": {}
      },
      "cell_type": "code",
      "source": [
        "vasprun_unconverged.converged_electronic"
      ],
      "execution_count": 0,
      "outputs": []
    },
    {
      "metadata": {
        "id": "GAVkAU7h7T5m",
        "colab_type": "code",
        "colab": {}
      },
      "cell_type": "code",
      "source": [
        "[v['e_0_energy'] for v in vasprun_unconverged.ionic_steps[0]['electronic_steps']]"
      ],
      "execution_count": 0,
      "outputs": []
    },
    {
      "metadata": {
        "id": "_1Ewe9Tq8New",
        "colab_type": "text"
      },
      "cell_type": "markdown",
      "source": [
        "# 5.2 Example of a band structure"
      ]
    },
    {
      "metadata": {
        "id": "YqH7sFZl7biV",
        "colab_type": "text"
      },
      "cell_type": "markdown",
      "source": [
        "Let's see an band structure"
      ]
    },
    {
      "metadata": {
        "id": "NYBpRR857ZtS",
        "colab_type": "code",
        "colab": {}
      },
      "cell_type": "code",
      "source": [
        "vasprun_bands = Vasprun('vasprun_Si_bands.xml')"
      ],
      "execution_count": 0,
      "outputs": []
    },
    {
      "metadata": {
        "id": "xkURRtI78oW_",
        "colab_type": "code",
        "colab": {}
      },
      "cell_type": "code",
      "source": [
        "vasprun_bands.final_structure"
      ],
      "execution_count": 0,
      "outputs": []
    },
    {
      "metadata": {
        "id": "IzIGgC3M8Uso",
        "colab_type": "code",
        "colab": {}
      },
      "cell_type": "code",
      "source": [
        "bs = vasprun_bands.get_band_structure()"
      ],
      "execution_count": 0,
      "outputs": []
    },
    {
      "metadata": {
        "id": "Rcihpv488lVJ",
        "colab_type": "code",
        "colab": {}
      },
      "cell_type": "code",
      "source": [
        "bs.get_band_gap()"
      ],
      "execution_count": 0,
      "outputs": []
    },
    {
      "metadata": {
        "id": "4yQmA1CA6bcz",
        "colab_type": "text"
      },
      "cell_type": "markdown",
      "source": [
        "# Going Further\n",
        "\n",
        "The following examples are a selection of the other capabilities of pymatgen. Please consult the [pymatgen documentation](https://pymatgen.org) or our [example notebooks](https://matgenb.materialsvirtuallab.org) if you're interested in learning more!\n",
        "\n",
        "If you have some analysis that pymatgen does not support, but you feel would be a good fit, please talk to the developers. If you would like to contribute code to pymatgen yourself, you are also encouraged to do so and guidance is available.[link text](https://)"
      ]
    },
    {
      "metadata": {
        "id": "DPHkMHQKwQAM",
        "colab_type": "text"
      },
      "cell_type": "markdown",
      "source": [
        "# Ex1. Symmetry Analysis with SymmetryAnalyzer\n",
        "\n",
        "In addition to book-keeping of structures using `Structure` objects, pymatgen contains powerful tools for analyzing crystal symmetry and comparing structures.  The `SymmetryAnalyzer` object uses the powerful spglib symmetry analysis library, which is written in C for more efficient determination of invariant symmetry operations and crystal symmetry. \n",
        "The symmetry analyzer can be used to get primitive and standardized conventional cell settings of structures.\n",
        "\n",
        "These examples shows how to get the primitive structure of BCC iron using `SpacegroupAnalyzer` and how to get the point group of the CO molecule created above using `PointGroupAnalyzer`."
      ]
    },
    {
      "metadata": {
        "id": "6y9YepVowQAM",
        "colab_type": "code",
        "colab": {}
      },
      "cell_type": "code",
      "source": [
        "from pymatgen.symmetry.analyzer import SpacegroupAnalyzer"
      ],
      "execution_count": 0,
      "outputs": []
    },
    {
      "metadata": {
        "id": "75stUkQFwQAN",
        "colab_type": "code",
        "colab": {}
      },
      "cell_type": "code",
      "source": [
        "sga = SpacegroupAnalyzer(fe)\n",
        "prim = sga.get_primitive_standard_structure()\n",
        "print(prim)  # note the primitive structure has only a single site"
      ],
      "execution_count": 0,
      "outputs": []
    },
    {
      "metadata": {
        "id": "E6FxeEjowQAO",
        "colab_type": "code",
        "colab": {}
      },
      "cell_type": "code",
      "source": [
        "std = sga.get_conventional_standard_structure()  # whereas the conventional structure has two\n",
        "print(std)"
      ],
      "execution_count": 0,
      "outputs": []
    },
    {
      "metadata": {
        "id": "bNQu89rpwQAQ",
        "colab_type": "code",
        "colab": {}
      },
      "cell_type": "code",
      "source": [
        "print(\"Crystal system:\", sga.get_crystal_system())\n",
        "print(\"Spacegroup symbol:\", sga.get_space_group_symbol())"
      ],
      "execution_count": 0,
      "outputs": []
    },
    {
      "metadata": {
        "id": "bTLn1cqvwQAS",
        "colab_type": "text"
      },
      "cell_type": "markdown",
      "source": [
        "# Ex2. Example of calculating X-ray Diffraction (XRD) Pattern\n",
        "\n",
        "There are various tools in pymatgen that allow for the analysis and plotting of structural and electronic information.  The `XRDCalculator` is perhaps the most straightforward of these tools, since it only requires a `Structure` object."
      ]
    },
    {
      "metadata": {
        "id": "jAJAGnlTwQAT",
        "colab_type": "code",
        "colab": {}
      },
      "cell_type": "code",
      "source": [
        "from pymatgen.analysis.diffraction.xrd import XRDCalculator\n",
        "xrdc = XRDCalculator()"
      ],
      "execution_count": 0,
      "outputs": []
    },
    {
      "metadata": {
        "id": "Xh7S6c6XwQAU",
        "colab_type": "code",
        "colab": {}
      },
      "cell_type": "code",
      "source": [
        "xrdc.get_plot(fe_primitive)  # plot the XRD pattern of NaCl"
      ],
      "execution_count": 0,
      "outputs": []
    },
    {
      "metadata": {
        "id": "thp7iuc8wQAa",
        "colab_type": "text"
      },
      "cell_type": "markdown",
      "source": [
        "# Ex3. Example: Creating a surface\n",
        "\n",
        "Here, we show how to generate all of the low-index facets for BCC Fe."
      ]
    },
    {
      "metadata": {
        "id": "OoSlIuWMwQAa",
        "colab_type": "code",
        "colab": {}
      },
      "cell_type": "code",
      "source": [
        "from pymatgen.core.surface import generate_all_slabs"
      ],
      "execution_count": 0,
      "outputs": []
    },
    {
      "metadata": {
        "id": "orFgQUJnwQAc",
        "colab_type": "code",
        "colab": {}
      },
      "cell_type": "code",
      "source": [
        "slabs = generate_all_slabs(fe, 1, 4, 10)"
      ],
      "execution_count": 0,
      "outputs": []
    },
    {
      "metadata": {
        "id": "V_biAYjwwQAd",
        "colab_type": "code",
        "colab": {}
      },
      "cell_type": "code",
      "source": [
        "first_slab = slabs[0]\n",
        "print(first_slab)"
      ],
      "execution_count": 0,
      "outputs": []
    },
    {
      "metadata": {
        "id": "BJX8R-GRwQAe",
        "colab_type": "code",
        "colab": {}
      },
      "cell_type": "code",
      "source": [
        "for slab in slabs:\n",
        "    print(slab.miller_index)"
      ],
      "execution_count": 0,
      "outputs": []
    },
    {
      "metadata": {
        "id": "erlyR-LE985P",
        "colab_type": "code",
        "colab": {}
      },
      "cell_type": "code",
      "source": [
        ""
      ],
      "execution_count": 0,
      "outputs": []
    }
  ]
}