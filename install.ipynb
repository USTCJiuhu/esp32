{
 "cells": [
  {
   "cell_type": "markdown",
   "metadata": {},
   "source": [
    "# ESP32 MicroPython Installation\n",
    "\n",
    "This guide shows how to install MicroPython on an ESP32 microcontroller ([Adafruit Huzzah32](https://www.adafruit.com/product/3405) used here, but should work with other boards also) and programming it with it with the help of [Jupyter Notebooks](https://jupyterlab.readthedocs.io/en/stable/). \n",
    "\n",
    "What's a Jupyter Notebook? You are looking at one! A mix of cells containing code, explanations, images, etc. With the correct setup the Notebook is \"alive\", i.e. you can execute and modify the code in the notebook.\n",
    "\n",
    "## Download the ESP32 Repository\n",
    "\n",
    "First you need to download these instructions and related files. To do this, you need to install `git` on your computer. Follow the instructions on [https://git-scm.com](https://git-scm.com/download/).\n",
    "\n",
    "Now open a terminal window on your computer (e.g. [cmd.exe](https://en.wikipedia.org/wiki/Cmd.exe) on Windows or [terminal.app](https://en.wikipedia.org/wiki/Terminal_(macOS)) on macOS) in the folder where you want to save your esp32 programs and run the following command:\n",
    "\n",
    "```shell\n",
    "git clone https://github.com/bboser/esp32.git\n",
    "```\n",
    "\n",
    "\n",
    "## Install Python 3\n",
    "\n",
    "Since the ESP32 does not have a keyboard and display, we use the host computer to interact with it. For this we need an installation of Python version 3.6 or later on the host. \n",
    "\n",
    "The most recent version of Python can be downloaded from [python.org](https://www.python.org/downloads/). At least version 3.6 is required. If you are not sure which version you have, open a terminal window  and start the interpreter. \n",
    "\n",
    "On some systems, Python 3 is started with `python`, others use `python3`. Just try to see what works or check the documentation of your installation of Python:\n",
    "\n",
    "```shell\n",
    "$ python3\n",
    "Python 3.6.5 (v3.6.5:f59c0932b4, Mar 28 2018, 05:52:31)\n",
    "[GCC 4.2.1 Compatible Apple LLVM 6.0 (clang-600.0.57)] on darwin\n",
    "Type \"help\", \"copyright\", \"credits\" or \"license\" for more information.\n",
    ">>>\n",
    "```\n",
    "\n",
    "Also install a few libraries using the `pip` command (again, `pip3` or `pip`, depending on the setup):\n",
    "\n",
    "```shell\n",
    "pip3 install --upgrade pip\n",
    "pip3 install pyserial\n",
    "pip3 install esptool\n",
    "pip3 install matplotlib\n",
    "```"
   ]
  },
  {
   "cell_type": "markdown",
   "metadata": {},
   "source": [
    "## Install Jupyter\n",
    "\n",
    "Now we are ready to install `Jupyter` so this notebook becomes alive.\n",
    "\n",
    "```shell\n",
    "pip3 install jupyter\n",
    "pip3 install jupyterlab\n",
    "pip3 install jupyter-micropython-remote\n",
    "```\n",
    "\n",
    "Download this file and start Jupyter in the folder with the file:\n",
    "\n",
    "```shell\n",
    "jupyter lab\n",
    "```\n",
    "\n",
    "A browser window opens with these instructions (navigate the folders in the left pane if this file does not open automatically). Now the notebook is alive and can excecute Python code. To run the contents of a cell, hold down the shift key and press enter."
   ]
  },
  {
   "cell_type": "code",
   "execution_count": 1,
   "metadata": {},
   "outputs": [
    {
     "name": "stdout",
     "output_type": "stream",
     "text": [
      "0\n",
      "1\n",
      "4\n"
     ]
    }
   ],
   "source": [
    "%local\n",
    "\n",
    "for i in range(3):\n",
    "    print(i**2)"
   ]
  },
  {
   "cell_type": "markdown",
   "metadata": {},
   "source": [
    "The line with `%local` instructs Jupyter to run the code on the host computer rather than the ESP32. For that to work we need to install Python on the ESP32."
   ]
  },
  {
   "cell_type": "markdown",
   "metadata": {},
   "source": [
    "## Install MicroPython\n",
    "\n",
    "The next step is to install Python on the ESP32. Since the ESP32 has little memory, a special version called `MicroPython` is used. It has the same syntax as regular Python, but lacks some libraries, e.g.  to interact with displays (it does not have one).\n",
    "\n",
    "### Find the Serial Port Name\n",
    "\n",
    "Connect the ESP32 board to a free USB port on your computer and find its port. On Linux and OSX this will be a \"file\" in `/dev`, e.g. `/dev/cu.SLAB_USBtoUART`. On Windows it's a `COM` port, e.g. `COM3`. You can find it by unplugging and replugging the board and checking which entry gets added to `/dev` or the Windows `COM` ports.\n",
    "\n",
    "On some systems you can run the code below to get a list of candidates:"
   ]
  },
  {
   "cell_type": "code",
   "execution_count": 2,
   "metadata": {},
   "outputs": [
    {
     "name": "stdout",
     "output_type": "stream",
     "text": [
      "Found board /dev/cu.SLAB_USBtoUART - CP2104 USB to UART Bridge Controller\n"
     ]
    }
   ],
   "source": [
    "%local\n",
    "\n",
    "from serial.tools.list_ports import comports\n",
    "\n",
    "for port in comports():\n",
    "    if port.vid and port.vid == 4292:\n",
    "        print(f\"Found board {port}\")"
   ]
  },
  {
   "cell_type": "markdown",
   "metadata": {},
   "source": [
    "### Flash MicroPython to the ESP32\n",
    "\n",
    "The next step is to copy the MicroPython binary to the flash memory on the ESP32 board. Edit the serial port name and name of the binary below to match your setup. Then excecute the cell. "
   ]
  },
  {
   "cell_type": "code",
   "execution_count": 3,
   "metadata": {},
   "outputs": [
    {
     "name": "stdout",
     "output_type": "stream",
     "text": [
      "esptool.py v2.5.1\n",
      "Serial port /dev/cu.SLAB_USBtoUART\n",
      "Connecting........_\n",
      "Chip is ESP32D0WDQ6 (revision 1)\n",
      "Features: WiFi, BT, Dual Core\n",
      "MAC: 30:ae:a4:1a:27:28\n",
      "Uploading stub...\n",
      "Running stub...\n",
      "Stub running...\n",
      "Changing baud rate to 921600\n",
      "Changed.\n",
      "Erasing flash (this may take a while)...\n",
      "Chip erase completed successfully in 4.4s\n",
      "Hard resetting via RTS pin...\n",
      "esptool.py v2.5.1\n",
      "Serial port /dev/cu.SLAB_USBtoUART\n",
      "Connecting........__\n",
      "Chip is ESP32D0WDQ6 (revision 1)\n",
      "Features: WiFi, BT, Dual Core\n",
      "MAC: 30:ae:a4:1a:27:28\n",
      "Uploading stub...\n",
      "Running stub...\n",
      "Stub running...\n",
      "Changing baud rate to 921600\n",
      "Changed.\n",
      "Configuring flash size...\n",
      "Auto-detected Flash size: 4MB\n",
      "Compressed 1081952 bytes to 683886...\n",
      "Wrote 1081952 bytes (683886 compressed) at 0x00001000 in 9.5 seconds (effective 906.4 kbit/s)...\n",
      "Hash of data verified.\n",
      "\n",
      "Leaving...\n",
      "Hard resetting via RTS pin...\n"
     ]
    }
   ],
   "source": [
    "%shell esptool.py -p /dev/cu.SLAB_USBtoUART --chip esp32 -b 921600 erase_flash\n",
    "%shell esptool.py -p /dev/cu.SLAB_USBtoUART --chip esp32 -b 921600 write_flash -z 0x1000 bin/esp32-latest.bin"
   ]
  },
  {
   "cell_type": "markdown",
   "metadata": {},
   "source": [
    "The `esptool` prints some feedback about what it is doing and after a minute or two announces success with:\n",
    "\n",
    "```shell\n",
    "Leaving...\n",
    "Hard resetting via RTS pin...\n",
    "```\n",
    "\n",
    "If you get errors follow the instructions [micropython.org](http://micropython.org/download#esp32) to flash MicroPython to your board.Now you are ready to run Python on the ESP32. To connect, execute the cell below (edit the port to match your setup). You should get a message `Connected on /dev/cu.SLAB_USBtoUART`."
   ]
  },
  {
   "cell_type": "code",
   "execution_count": 3,
   "metadata": {},
   "outputs": [
    {
     "name": "stdout",
     "output_type": "stream",
     "text": [
      "\u001b[34mConnected on /dev/cu.SLAB_USBtoUART\n",
      "\u001b[0m"
     ]
    }
   ],
   "source": [
    "%connect \"/dev/cu.SLAB_USBtoUART\""
   ]
  },
  {
   "cell_type": "markdown",
   "metadata": {},
   "source": [
    "Check it out, e.g."
   ]
  },
  {
   "cell_type": "code",
   "execution_count": 3,
   "metadata": {},
   "outputs": [
    {
     "name": "stdout",
     "output_type": "stream",
     "text": [
      "2 to the power 50: 1125899906842624\n",
      "platform: esp32\n",
      "implementation: (name='micropython', version=(1, 9, 4))\n"
     ]
    }
   ],
   "source": [
    "print(\"2 to the power 50:\", 2**50)\n",
    "\n",
    "import sys\n",
    "print(\"platform:\", sys.platform)\n",
    "print(\"implementation:\", sys.implementation)"
   ]
  },
  {
   "cell_type": "markdown",
   "metadata": {},
   "source": [
    "The output `platform: esp32` confirms that we are indeed running Python on the microcontroller. Now you can sell your laptop ... hold off, you still need the display and keyboard."
   ]
  },
  {
   "cell_type": "markdown",
   "metadata": {},
   "source": [
    "# Blinking LEDs\n",
    "\n",
    "To gain a bit more confidence that our board is indeed working, we will write a small program that flashes an LED. This program is also a good place to go back to when suddently everything stops working.\n",
    "\n",
    "Run the cell below and experience the thrill of a blinking light! There is more to come ..."
   ]
  },
  {
   "cell_type": "code",
   "execution_count": 3,
   "metadata": {},
   "outputs": [
    {
     "name": "stdout",
     "output_type": "stream",
     "text": [
      "LED on  0\n",
      "LED off 0\n",
      "LED on  1\n",
      "LED off 1\n",
      "LED on  2\n",
      "LED off 2\n"
     ]
    }
   ],
   "source": [
    "from machine import Pin\n",
    "from time import sleep\n",
    "\n",
    "led = Pin(13, mode=Pin.OUT)\n",
    "\n",
    "for i in range(3):\n",
    "    led.value(1)\n",
    "    print(\"LED on \", i)\n",
    "    sleep(0.5)\n",
    "    led.value(0)\n",
    "    print(\"LED off\", i)\n",
    "    sleep(0.2)"
   ]
  },
  {
   "cell_type": "markdown",
   "metadata": {},
   "source": [
    "# Documentation\n",
    "\n",
    "Now we have a pretty powerful setup, but how do we use it? We will build up our knowledge over time, but here are a few links to reference documentation to go back to. \n",
    "\n",
    "Often a generic web search is the best path to getting help. Also typing error messages into a web search engine frequently finds a solution.\n",
    "\n",
    "**A Note about the Open Source Community**\n",
    "\n",
    "*MicroPython and other software we use is written by volunteers and made available to everyone to use for free. Frequently the documentation is not up-to-date. If you find something needs improvement, the community is always looking for contributions.*\n",
    "\n",
    "## Jupyter\n",
    "\n",
    "* General documentation about [Jupyter Notebooks](https://jupyterlab.readthedocs.io/en/stable/)\n",
    "* Documentation for the [MicroPython Kernel](https://pypi.org/project/jupyter-micropython-remote/) for Jupyter\n",
    "\n",
    "## MicroPython\n",
    "\n",
    "* General documentation on [MicroPython](http://docs.micropython.org/en/latest/)\n",
    "* Documentation for the ESP32 is not available, but the instructions for the [ESP8266](http://docs.micropython.org/en/latest/esp8266/quickref.html) mostly apply. The ESP8266 is the predecessor of the ESP32."
   ]
  }
 ],
 "metadata": {
  "kernelspec": {
   "display_name": "MicroPython Remote",
   "language": "micropython",
   "name": "micropython"
  },
  "language_info": {
   "codemirror_mode": "python",
   "file_extension": ".py",
   "mimetype": "text/python",
   "name": "micropython"
  }
 },
 "nbformat": 4,
 "nbformat_minor": 2
}
