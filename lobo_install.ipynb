{
 "cells": [
  {
   "cell_type": "markdown",
   "metadata": {},
   "source": [
    "# ESP32 MicroPython Installation\n",
    "\n",
    "This guide shows how to install MicroPython on an ESP32 microcontroller ([Adafruit Huzzah32](https://www.adafruit.com/product/3405) used here, but should work with other boards also) and programming it with it with the help of [Jupyter Notebooks](https://jupyterlab.readthedocs.io/en/stable/). \n",
    "\n",
    "What's a Jupyter Notebook? You are looking at one! A mix of cells containing code, explanations, images, etc. With the correct setup the Notebook is \"alive\", i.e. you can execute and modify the code in the notebook.\n",
    "\n",
    "## Download the ESP32 Repository\n",
    "\n",
    "First you need to download these instructions and related files. To do this, you need to install `git` on your computer. Follow the instructions on [https://git-scm.com](https://git-scm.com/download/).\n",
    "\n",
    "Now open a terminal window on your computer (e.g. [cmd.exe](https://en.wikipedia.org/wiki/Cmd.exe) on Windows or [terminal.app](https://en.wikipedia.org/wiki/Terminal_(macOS)) on macOS) in the folder where you want to save your esp32 programs and run the following command:\n",
    "\n",
    "```shell\n",
    "git clone https://github.com/bboser/esp32.git\n",
    "```\n",
    "\n",
    "\n",
    "## Install Python 3\n",
    "\n",
    "Since the ESP32 does not have a keyboard and display, we use the host computer to interact with it. For this we need an installation of Python version 3.6 or later on the host. \n",
    "\n",
    "The most recent version of Python can be downloaded from [python.org](https://www.python.org/downloads/). At least version 3.6 is required. If you are not sure which version you have, open a terminal window  and start the interpreter. \n",
    "\n",
    "On some systems, Python 3 is started with `python`, others use `python3`. Just try to see what works or check the documentation of your installation of Python:\n",
    "\n",
    "```shell\n",
    "$ python3\n",
    "Python 3.6.5 (v3.6.5:f59c0932b4, Mar 28 2018, 05:52:31)\n",
    "[GCC 4.2.1 Compatible Apple LLVM 6.0 (clang-600.0.57)] on darwin\n",
    "Type \"help\", \"copyright\", \"credits\" or \"license\" for more information.\n",
    ">>>\n",
    "```\n",
    "\n",
    "Also install a few libraries using the `pip` command (again, `pip3` or `pip`, depending on the setup):\n",
    "\n",
    "```shell\n",
    "pip3 install --upgrade pip\n",
    "pip3 install pyserial\n",
    "pip3 install esptool\n",
    "pip3 install matplotlib\n",
    "```"
   ]
  },
  {
   "cell_type": "markdown",
   "metadata": {},
   "source": [
    "## Install Jupyter\n",
    "\n",
    "Now we are ready to install `Jupyter` with the [MicroPython Kernel](https://github.com/goatchurchprime/jupyter_micropython_kernel) so this notebook becomes alive. \n",
    "\n",
    "```shell\n",
    "pip3 install jupyter\n",
    "pip3 install jupyterlab\n",
    "pip3 install jupyter_micropython_kernel\n",
    "python3 -m jupyter_micropython_kernel.install\n",
    "```\n",
    "\n",
    "Download this file and start Jupyter in the folder with the file:\n",
    "\n",
    "```shell\n",
    "jupyter lab\n",
    "```\n",
    "\n",
    "A browser window opens with these instructions (navigate the folders in the left pane if this file does not open automatically). "
   ]
  },
  {
   "cell_type": "markdown",
   "metadata": {},
   "source": [
    "## Install MicroPython\n",
    "\n",
    "The next step is to install Python on the ESP32. Since the ESP32 has little memory, a special version called `MicroPython` is used. It has the same syntax as regular Python, but lacks some libraries, e.g.  to interact with displays (it does not have one).\n",
    "\n",
    "### Find the Serial Port Name\n",
    "\n",
    "Connect the ESP32 board to a free USB port on your computer and find its port. On Linux and OSX this will be a \"file\" in `/dev`, e.g. `/dev/cu.SLAB_USBtoUART`. On Windows it's a `COM` port, e.g. `COM3`. You can find it by unplugging and replugging the board and checking which entry gets added to `/dev` or the Windows `COM` ports.\n",
    "\n",
    "On some systems you can run the code below to get a list of candidates. Run `python3` from the command prompt and execute the following code:\n",
    "\n",
    "```python\n",
    "from serial.tools.list_ports import comports\n",
    "\n",
    "for port in comports():\n",
    "    if port.vid and port.vid == 4292:\n",
    "        print(f\"Found board {port}\")\n",
    "```"
   ]
  },
  {
   "cell_type": "markdown",
   "metadata": {},
   "source": [
    "### Flash MicroPython to the ESP32\n",
    "\n",
    "The next step is to copy the MicroPython binary to the flash memory on the ESP32 board. There are two (probably many more) \"flavors\" of MicroPython. Unless instructed otherwise, install \"Loboris MicroPython\".\n",
    "\n",
    "Edit the serial port name and name of the binary below to match your setup. Then open a terminal window and run the commands. Note that the second command spans several lines.\n",
    "\n",
    "#### Loboris MicroPython\n",
    "\n",
    "Run these commands from the terminal:\n",
    "\n",
    "```shell\n",
    "esptool.py -p /dev/cu.SLAB_USBtoUART --chip esp32 -b 921600 erase_flash\n",
    "\n",
    "esptool.py --chip esp32 -p /dev/cu.SLAB_USBtoUART -b 921600 --before default_reset \\\n",
    "    write_flash -z --flash_mode dio --flash_freq 40m --flash_size detect \\\n",
    "    0x1000  firmware/lobo/esp32/bootloader/bootloader.bin \\\n",
    "    0xf000  firmware/lobo/esp32/phy_init_data.bin \\\n",
    "    0x10000 firmware/lobo/esp32/MicroPython.bin \\\n",
    "    0x8000  firmware/lobo/esp32/partitions_mpy.bin\n",
    "```\n",
    "\n",
    "If you get errors follow the instructions on [github](https://github.com/loboris/MicroPython_ESP32_psRAM_LoBo) to flash loboris MicroPython to your board."
   ]
  },
  {
   "cell_type": "markdown",
   "metadata": {},
   "source": [
    "#### Standard Micropython\n",
    "\n",
    "Run the following commands from a termial window:\n",
    "\n",
    "```shell\n",
    "esptool.py -p /dev/cu.SLAB_USBtoUART --chip esp32 -b 921600 erase_flash\n",
    "esptool.py -p /dev/cu.SLAB_USBtoUART --chip esp32 -b 921600 write_flash \\\n",
    "    -z 0x1000 firmware/standard/esp32-latest.bin\n",
    "```\n",
    "\n",
    "If you get errors follow the instructions at [micropython.org](http://micropython.org/download#esp32) to flash MicroPython to your board."
   ]
  },
  {
   "cell_type": "markdown",
   "metadata": {},
   "source": [
    "#### Checking the Installation\n",
    "\n",
    "The `esptool` prints some feedback about what it is doing and after a minute or two announces success with:\n",
    "\n",
    "```shell\n",
    "Leaving...\n",
    "Hard resetting via RTS pin...\n",
    "```\n",
    "\n",
    "Now you are ready to run Python on the ESP32. To connect, execute the cell below (edit the port to match your setup). You should get a message `Connected on /dev/cu.SLAB_USBtoUART`.\n",
    "\n",
    "Now the notebook is alive and can excecute Python code. To run the contents of a cell, hold down the shift key and press enter."
   ]
  },
  {
   "cell_type": "code",
   "execution_count": 4,
   "metadata": {},
   "outputs": [
    {
     "name": "stdout",
     "output_type": "stream",
     "text": [
      "Found serial ports: /dev/cu.SLAB_USBtoUART, /dev/cu.Bluetooth-Incoming-Port, /dev/cu.MALS, /dev/cu.SOC \n",
      "\u001b[34mConnecting to --port=/dev/cu.SLAB_USBtoUART --baud=115200 \u001b[0m\n",
      "\u001b[34mReady.\n",
      "\u001b[0m"
     ]
    }
   ],
   "source": [
    "%serialconnect \"/dev/cu.SLAB_USBtoUART\""
   ]
  },
  {
   "cell_type": "markdown",
   "metadata": {},
   "source": [
    "Check it out, e.g."
   ]
  },
  {
   "cell_type": "code",
   "execution_count": 5,
   "metadata": {},
   "outputs": [
    {
     "name": "stdout",
     "output_type": "stream",
     "text": [
      "[leftinbuffer] ['>']\n",
      "2 to the power 50: 1125899906842624\n",
      "platform: esp32_LoBo\n",
      "implementation: (name='micropython', version=(3, 2, 24))\n"
     ]
    }
   ],
   "source": [
    "print(\"2 to the power 50:\", 2**50)\n",
    "\n",
    "import sys\n",
    "print(\"platform:\", sys.platform)\n",
    "print(\"implementation:\", sys.implementation)"
   ]
  },
  {
   "cell_type": "markdown",
   "metadata": {},
   "source": [
    "The output `platform: esp32` confirms that we are indeed running Python on the microcontroller. Now you can sell your laptop ... hold off, you still need the display and keyboard."
   ]
  },
  {
   "cell_type": "markdown",
   "metadata": {},
   "source": [
    "# Blinking LEDs\n",
    "\n",
    "To gain a bit more confidence that our board is indeed working, we will write a small program that flashes an LED. This program is also a good place to go back to when suddently everything stops working.\n",
    "\n",
    "Run the cell below and experience the thrill of a blinking light! There is more to come ..."
   ]
  },
  {
   "cell_type": "code",
   "execution_count": 3,
   "metadata": {},
   "outputs": [
    {
     "name": "stdout",
     "output_type": "stream",
     "text": [
      "LED on  0\n",
      "LED off 0\n",
      "LED on  1\n",
      "LED off 1\n",
      "LED on  2\n",
      "LED off 2\n"
     ]
    }
   ],
   "source": [
    "from machine import Pin\n",
    "from time import sleep\n",
    "\n",
    "led = Pin(13, mode=Pin.OUT)\n",
    "\n",
    "for i in range(3):\n",
    "    led.value(1)\n",
    "    print(\"LED on \", i)\n",
    "    sleep(0.5)\n",
    "    led.value(0)\n",
    "    print(\"LED off\", i)\n",
    "    sleep(0.2)"
   ]
  },
  {
   "cell_type": "markdown",
   "metadata": {},
   "source": [
    "# Documentation\n",
    "\n",
    "Now we have a pretty powerful setup, but how do we use it? We will build up our knowledge over time, but here are a few links to reference documentation to go back to. \n",
    "\n",
    "Often a generic web search is the best path to getting help. Also typing error messages into a web search engine frequently finds a solution.\n",
    "\n",
    "**A Note about the Open Source Community**\n",
    "\n",
    "*MicroPython and other software we use is written by volunteers and made available to everyone to use for free. Frequently the documentation is not up-to-date. If you find something needs improvement, the community is always looking for contributions.*\n",
    "\n",
    "## Jupyter\n",
    "\n",
    "* General documentation about [Jupyter Notebooks](https://jupyterlab.readthedocs.io/en/stable/)\n",
    "* Documentation for the [MicroPython Kernel](https://pypi.org/project/jupyter-micropython-remote/) for Jupyter\n",
    "\n",
    "## MicroPython\n",
    "\n",
    "* General documentation on [MicroPython](http://docs.micropython.org/en/latest/)\n",
    "* Loboris MicroPython [Wiki](https://github.com/loboris/MicroPython_ESP32_psRAM_LoBo/wiki). The table of contents is on the *right* of the page.\n",
    "* Documentation for the ESP32 is not available, but the instructions for the [ESP8266](http://docs.micropython.org/en/latest/esp8266/quickref.html) mostly apply. The ESP8266 is the predecessor of the ESP32."
   ]
  }
 ],
 "metadata": {
  "kernelspec": {
   "display_name": "MicroPython - USB",
   "language": "micropython",
   "name": "micropython"
  },
  "language_info": {
   "codemirror_mode": "python",
   "file_extension": ".py",
   "mimetype": "text/python",
   "name": "micropython"
  }
 },
 "nbformat": 4,
 "nbformat_minor": 2
}
