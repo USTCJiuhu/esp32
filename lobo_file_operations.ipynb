{
 "cells": [
  {
   "cell_type": "markdown",
   "metadata": {},
   "source": [
    "# ESP32 File System\n",
    "\n",
    "The Huzzah32 has a small flash chip attached that is used for storing the MicroPython interpreter and user code and data. The examples below show how to list the contents of the flash and how to copy files from the host to the Huzzah32.\n",
    "\n",
    "Before can execute MicroPython commands, you need to connect to the board. Make sure it's connected to a free USB port on the computer and execute the cell below:"
   ]
  },
  {
   "cell_type": "code",
   "execution_count": 33,
   "metadata": {},
   "outputs": [
    {
     "name": "stdout",
     "output_type": "stream",
     "text": [
      "Found serial ports: /dev/cu.SLAB_USBtoUART, /dev/cu.Bluetooth-Incoming-Port, /dev/cu.MALS, /dev/cu.SOC \n",
      "\u001b[34mConnecting to --port=/dev/cu.SLAB_USBtoUART --baud=115200 \u001b[0m\n",
      "\u001b[34mReady.\n",
      "\u001b[0m"
     ]
    }
   ],
   "source": [
    "%serialconnect \"/dev/cu.SLAB_USBtoUART\""
   ]
  },
  {
   "cell_type": "markdown",
   "metadata": {},
   "source": [
    "If you get an error that there is no such port, follow the instructions in the installation guide for how to find the correct port. Especially Windows has a habit of changing the name of this port at will. \n",
    "\n",
    "Most file operations on the ESP32 use the \"standard\" Python `os` library. \n",
    "\n",
    "### Directory Listing"
   ]
  },
  {
   "cell_type": "code",
   "execution_count": 2,
   "metadata": {},
   "outputs": [
    {
     "name": "stdout",
     "output_type": "stream",
     "text": [
      "Found serial ports: /dev/cu.SLAB_USBtoUART, /dev/cu.Bluetooth-Incoming-Port, /dev/cu.MALS, /dev/cu.SOC \n",
      "\u001b[34mConnecting to --port=/dev/cu.SLAB_USBtoUART --baud=115200 \u001b[0m\n",
      "\u001b[34mReady.\n",
      "\u001b[0m['lib', 'boot.py', 'config.py', 'WeatherUtils.py']\n",
      "['neopixel_write.py', 'upip.py', 'oledfeather.py', 'freesans20.py', 'writer.py', 'adafruit_register', 'board.py', 'functools.py', 'plotclient.py', 'ina219.py', 'urequests.py', 'adafruit_bus_device', 'adafruit_bno055.py', 'logging.py', '__init__.py', 'ads1x15.py', 'mqttclient.py', 'adafruit_bme680.py', 'bno055.py', 'time.py', 'busio.py']\n"
     ]
    }
   ],
   "source": [
    "%serialconnect \"/dev/cu.SLAB_USBtoUART\"\n",
    "\n",
    "import os\n",
    "\n",
    "print(os.listdir('/flash'))\n",
    "print(os.listdir('/flash/lib'))"
   ]
  },
  {
   "cell_type": "markdown",
   "metadata": {},
   "source": [
    "`/flash` is the root of the MicroPython file system on the ESP32.\n",
    "\n",
    "### Deleting Files"
   ]
  },
  {
   "cell_type": "code",
   "execution_count": 13,
   "metadata": {},
   "outputs": [],
   "source": [
    "import os\n",
    "\n",
    "os.remove('/flash/hello.py')"
   ]
  },
  {
   "cell_type": "markdown",
   "metadata": {},
   "source": [
    "### Copy Cell Contents in File on ESP32\n",
    "\n",
    "The `%sendtofile` command stores the contents of a cell on the ESP32:"
   ]
  },
  {
   "cell_type": "code",
   "execution_count": 18,
   "metadata": {},
   "outputs": [
    {
     "name": "stdout",
     "output_type": "stream",
     "text": [
      "Sent 4 lines (79 bytes) to /flash/factorial.py.\n"
     ]
    }
   ],
   "source": [
    "%sendtofile /flash/factorial.py\n",
    "\n",
    "def factorial(n):\n",
    "    if n <= 1:\n",
    "        return 1\n",
    "    return n * factorial(n-1)"
   ]
  },
  {
   "cell_type": "markdown",
   "metadata": {},
   "source": [
    "Now you can use the code stored on the ESP32:"
   ]
  },
  {
   "cell_type": "code",
   "execution_count": 21,
   "metadata": {},
   "outputs": [
    {
     "name": "stdout",
     "output_type": "stream",
     "text": [
      "120\n"
     ]
    }
   ],
   "source": [
    "from factorial import factorial\n",
    "\n",
    "print(factorial(5))"
   ]
  },
  {
   "cell_type": "markdown",
   "metadata": {},
   "source": [
    "The `%sendtofile` macro allows you to design code in a notebook and save it to the ESP32 when it is ready. Keep the notebook as documentation, to make updates, and as a backup.\n",
    "\n",
    "Execute the cell below to get a list ofthe options of `%sendtofile` as well as a few other built-in \"magic\" commands. "
   ]
  },
  {
   "cell_type": "code",
   "execution_count": null,
   "metadata": {},
   "outputs": [],
   "source": [
    "%lsmagic"
   ]
  },
  {
   "cell_type": "markdown",
   "metadata": {},
   "source": [
    "### Copy File from Host to ESP32\n",
    "\n",
    "You can also copy a file stored on the host to the ESP32:"
   ]
  },
  {
   "cell_type": "code",
   "execution_count": 26,
   "metadata": {},
   "outputs": [
    {
     "name": "stdout",
     "output_type": "stream",
     "text": [
      "Sent 1 lines (30 bytes) to /flash/hello.py.\n"
     ]
    }
   ],
   "source": [
    "%sendtofile --source hello.py /flash/hello.py"
   ]
  },
  {
   "cell_type": "code",
   "execution_count": 27,
   "metadata": {},
   "outputs": [
    {
     "name": "stdout",
     "output_type": "stream",
     "text": [
      ".['lib', 'boot.py', 'factorial.py', 'hello.py']\n"
     ]
    }
   ],
   "source": [
    "import os\n",
    "print(os.listdir('/flash'))"
   ]
  },
  {
   "cell_type": "code",
   "execution_count": 28,
   "metadata": {},
   "outputs": [],
   "source": [
    "import hello"
   ]
  },
  {
   "cell_type": "markdown",
   "metadata": {},
   "source": [
    "### Deleting Files"
   ]
  },
  {
   "cell_type": "code",
   "execution_count": 29,
   "metadata": {},
   "outputs": [
    {
     "name": "stdout",
     "output_type": "stream",
     "text": [
      "files before delete:  ['lib', 'boot.py', 'factorial.py', 'hello.py']\n",
      "after ['lib', 'boot.py']\n"
     ]
    }
   ],
   "source": [
    "import os\n",
    "\n",
    "print(\"files before delete: \", os.listdir('/flash'))\n",
    "os.remove('/flash/hello.py')\n",
    "os.remove('/flash/factorial.py')\n",
    "print(\"after\", os.listdir('/flash'))"
   ]
  },
  {
   "cell_type": "markdown",
   "metadata": {},
   "source": [
    "### More File Operations\n",
    "\n",
    "Consult the MicroPython documentation for the [os library](http://docs.micropython.org/en/latest/library/uos.html) for additional operations. The following command prints a list of all available functions, albeit without documentation."
   ]
  },
  {
   "cell_type": "code",
   "execution_count": 31,
   "metadata": {},
   "outputs": [
    {
     "name": "stdout",
     "output_type": "stream",
     "text": [
      "['__class__', '__name__', 'SDMODE_1LINE', 'SDMODE_4LINE', 'SDMODE_SPI', 'chdir', 'getcwd', 'getdrive', 'ilistdir', 'listdir', 'mkdir', 'mountsd', 'remove', 'rename', 'rmdir', 'sdconfig', 'stat', 'statvfs', 'umountsd', 'uname', 'urandom']\n"
     ]
    }
   ],
   "source": [
    "import os\n",
    "\n",
    "print(dir(os))"
   ]
  },
  {
   "cell_type": "code",
   "execution_count": null,
   "metadata": {},
   "outputs": [],
   "source": []
  }
 ],
 "metadata": {
  "kernelspec": {
   "display_name": "MicroPython - USB",
   "language": "micropython",
   "name": "micropython"
  },
  "language_info": {
   "codemirror_mode": "python",
   "file_extension": ".py",
   "mimetype": "text/python",
   "name": "micropython"
  }
 },
 "nbformat": 4,
 "nbformat_minor": 2
}
